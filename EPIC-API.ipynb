{
 "cells": [
  {
   "cell_type": "markdown",
   "metadata": {},
   "source": [
    "# Testing the API"
   ]
  },
  {
   "cell_type": "code",
   "execution_count": 1,
   "metadata": {},
   "outputs": [],
   "source": [
    "import requests\n",
    "import os"
   ]
  },
  {
   "cell_type": "code",
   "execution_count": 16,
   "metadata": {},
   "outputs": [],
   "source": [
    "url = 'https://epic.gsfc.nasa.gov/api/natural'\n",
    "res = requests.get(url)"
   ]
  },
  {
   "cell_type": "code",
   "execution_count": 17,
   "metadata": {},
   "outputs": [
    {
     "data": {
      "text/plain": [
       "{'identifier': '20200407022436',\n",
       " 'caption': \"This image was taken by NASA's EPIC camera onboard the NOAA DSCOVR spacecraft\",\n",
       " 'image': 'epic_1b_20200407022436',\n",
       " 'version': '03',\n",
       " 'centroid_coordinates': {'lat': 14.633789, 'lon': 147.458496},\n",
       " 'dscovr_j2000_position': {'x': 1303889.966854,\n",
       "  'y': 450569.4323,\n",
       "  'z': 357030.695896},\n",
       " 'lunar_j2000_position': {'x': -355481.886455,\n",
       "  'y': -29414.550557,\n",
       "  'z': 21316.302326},\n",
       " 'sun_j2000_position': {'x': 142846831.232179,\n",
       "  'y': 41227412.074587,\n",
       "  'z': 17872002.533924},\n",
       " 'attitude_quaternions': {'q0': 0.1526,\n",
       "  'q1': -0.15898,\n",
       "  'q2': -0.96551,\n",
       "  'q3': 0.13864},\n",
       " 'date': '2020-04-07 02:19:47',\n",
       " 'coords': {'centroid_coordinates': {'lat': 14.633789, 'lon': 147.458496},\n",
       "  'dscovr_j2000_position': {'x': 1303889.966854,\n",
       "   'y': 450569.4323,\n",
       "   'z': 357030.695896},\n",
       "  'lunar_j2000_position': {'x': -355481.886455,\n",
       "   'y': -29414.550557,\n",
       "   'z': 21316.302326},\n",
       "  'sun_j2000_position': {'x': 142846831.232179,\n",
       "   'y': 41227412.074587,\n",
       "   'z': 17872002.533924},\n",
       "  'attitude_quaternions': {'q0': 0.1526,\n",
       "   'q1': -0.15898,\n",
       "   'q2': -0.96551,\n",
       "   'q3': 0.13864}}}"
      ]
     },
     "execution_count": 17,
     "metadata": {},
     "output_type": "execute_result"
    }
   ],
   "source": [
    "# Example data retrieved\n",
    "res.json()[0]"
   ]
  },
  {
   "cell_type": "code",
   "execution_count": 18,
   "metadata": {},
   "outputs": [
    {
     "name": "stdout",
     "output_type": "stream",
     "text": [
      "20200407022436\n",
      "2020 04 07\n"
     ]
    }
   ],
   "source": [
    "# Example data retrieved\n",
    "print(res.json()[0]['identifier'])\n",
    "YYYYMMDD = res.json()[0]['identifier']\n",
    "year = YYYYMMDD[:4]\n",
    "month = YYYYMMDD[4:6]\n",
    "day = YYYYMMDD[6:8]\n",
    "print(year, month, day)"
   ]
  },
  {
   "cell_type": "code",
   "execution_count": null,
   "metadata": {},
   "outputs": [],
   "source": [
    "# Define when\n",
    "def getSatelite(YYYYMMDD,queryParams=dict(),apiKey=\"\"):\n",
    "    \n",
    "year = YYYYMMDD[:4]\n",
    "month = YYYYMMDD[4:6]\n",
    "day = YYYYMMDD[6:8]\n",
    "    \n",
    "    \n",
    "    # Construct the resource url\n",
    "    url = f'https://epic.gsfc.nasa.gov/api/natural'\n",
    "    # metadata = f\"https://epic.gsfc.nasa.gov/api/natural/date/{year}-{month}-{day}\"\n",
    "    \n",
    "    # If apiKey is defined, pass a header\n",
    "    headers = {\"Authorization\":f\"token {apiKey}\"} if apiKey else {}\n",
    "\n",
    "    # Perform the request\n",
    "    res = requests.get(url, params=queryParams, headers=headers)\n",
    "    print(res.status_code, res.url)\n",
    "    \n",
    "    # Extract json from body response\n",
    "    return res.json()\n",
    "\n",
    "\n",
    "#specify requests url\n",
    "metadata = f\"https://epic.gsfc.nasa.gov/api/natural/date/{year}-{month}-{day}\""
   ]
  },
  {
   "cell_type": "code",
   "execution_count": null,
   "metadata": {},
   "outputs": [],
   "source": [
    "# Define when\n",
    "month = '08'\n",
    "day = '21'\n",
    "year = '2017'\n",
    "\n",
    "#specify requests url\n",
    "metadata = f\"https://epic.gsfc.nasa.gov/api/natural/date/{year}-{month}-{day}\"\n",
    "\n",
    "meta = file_get_contents($metadata);   # get the metadata for that date and collection\n",
    "arr = json_decode($meta);  # decode the metadata\n",
    "\n",
    "foreach($arr as $item) {\n",
    "    $name = $item->image . '.png';\n",
    "    $archive = \"https://epic.gsfc.nasa.gov/archive/natural/{$year}/{$month}/{$day}/png/\";\n",
    "\n",
    "    $source = $archive . $name;\n",
    "    $destination = '/path/to/downloads/' . $name;\n",
    "\n",
    "    copy($source, $destination);    // download and copy the image\n",
    "    }"
   ]
  },
  {
   "cell_type": "code",
   "execution_count": null,
   "metadata": {},
   "outputs": [],
   "source": [
    "def getSatelite(path,queryParams=dict(),apiKey=\"\"):\n",
    "    \n",
    "    # Construct the resource url\n",
    "    url = f'https://epic.gsfc.nasa.gov/api/natural'\n",
    "    \n",
    "    # If apiKey is defined, pass a header\n",
    "    headers = {\"Authorization\":f\"token {apiKey}\"} if apiKey else {}\n",
    "\n",
    "    # Perform the request\n",
    "    res = requests.get(url, params=queryParams, headers=headers)\n",
    "    print(res.status_code, res.url)\n",
    "    \n",
    "    # Extract json from body response\n",
    "    return res.json()"
   ]
  },
  {
   "cell_type": "code",
   "execution_count": null,
   "metadata": {},
   "outputs": [],
   "source": []
  },
  {
   "cell_type": "code",
   "execution_count": null,
   "metadata": {},
   "outputs": [],
   "source": []
  },
  {
   "cell_type": "markdown",
   "metadata": {},
   "source": [
    "# Working with datetime"
   ]
  },
  {
   "cell_type": "code",
   "execution_count": 37,
   "metadata": {},
   "outputs": [],
   "source": [
    "import pandas as pd\n",
    "import numpy as np\n",
    "import datetime"
   ]
  },
  {
   "cell_type": "code",
   "execution_count": 21,
   "metadata": {},
   "outputs": [
    {
     "data": {
      "text/plain": [
       "DatetimeIndex(['2015-01-01', '2015-01-02', '2015-01-03', '2015-01-04',\n",
       "               '2015-01-05', '2015-01-06', '2015-01-07', '2015-01-08',\n",
       "               '2015-01-09', '2015-01-10',\n",
       "               ...\n",
       "               '2020-09-25', '2020-09-26', '2020-09-27', '2020-09-28',\n",
       "               '2020-09-29', '2020-09-30', '2020-10-01', '2020-10-02',\n",
       "               '2020-10-03', '2020-10-04'],\n",
       "              dtype='datetime64[ns]', length=2104, freq='D')"
      ]
     },
     "execution_count": 21,
     "metadata": {},
     "output_type": "execute_result"
    }
   ],
   "source": [
    "date_rng = pd.date_range(start='1/1/2015', end='10/04/2020', freq='D')\n",
    "date_rng"
   ]
  },
  {
   "cell_type": "code",
   "execution_count": 23,
   "metadata": {},
   "outputs": [
    {
     "data": {
      "text/html": [
       "<div>\n",
       "<style scoped>\n",
       "    .dataframe tbody tr th:only-of-type {\n",
       "        vertical-align: middle;\n",
       "    }\n",
       "\n",
       "    .dataframe tbody tr th {\n",
       "        vertical-align: top;\n",
       "    }\n",
       "\n",
       "    .dataframe thead th {\n",
       "        text-align: right;\n",
       "    }\n",
       "</style>\n",
       "<table border=\"1\" class=\"dataframe\">\n",
       "  <thead>\n",
       "    <tr style=\"text-align: right;\">\n",
       "      <th></th>\n",
       "      <th>date</th>\n",
       "      <th>data</th>\n",
       "    </tr>\n",
       "  </thead>\n",
       "  <tbody>\n",
       "    <tr>\n",
       "      <th>0</th>\n",
       "      <td>2015-01-01</td>\n",
       "      <td>73</td>\n",
       "    </tr>\n",
       "    <tr>\n",
       "      <th>1</th>\n",
       "      <td>2015-01-02</td>\n",
       "      <td>5</td>\n",
       "    </tr>\n",
       "    <tr>\n",
       "      <th>2</th>\n",
       "      <td>2015-01-03</td>\n",
       "      <td>36</td>\n",
       "    </tr>\n",
       "    <tr>\n",
       "      <th>3</th>\n",
       "      <td>2015-01-04</td>\n",
       "      <td>86</td>\n",
       "    </tr>\n",
       "    <tr>\n",
       "      <th>4</th>\n",
       "      <td>2015-01-05</td>\n",
       "      <td>31</td>\n",
       "    </tr>\n",
       "  </tbody>\n",
       "</table>\n",
       "</div>"
      ],
      "text/plain": [
       "        date  data\n",
       "0 2015-01-01    73\n",
       "1 2015-01-02     5\n",
       "2 2015-01-03    36\n",
       "3 2015-01-04    86\n",
       "4 2015-01-05    31"
      ]
     },
     "execution_count": 23,
     "metadata": {},
     "output_type": "execute_result"
    }
   ],
   "source": [
    "df = pd.DataFrame(date_rng, columns=['date'])\n",
    "df['data'] = np.random.randint(0,100, size=(len(date_rng)))\n",
    "df.head()"
   ]
  },
  {
   "cell_type": "code",
   "execution_count": 33,
   "metadata": {
    "scrolled": true
   },
   "outputs": [
    {
     "data": {
      "text/html": [
       "<div>\n",
       "<style scoped>\n",
       "    .dataframe tbody tr th:only-of-type {\n",
       "        vertical-align: middle;\n",
       "    }\n",
       "\n",
       "    .dataframe tbody tr th {\n",
       "        vertical-align: top;\n",
       "    }\n",
       "\n",
       "    .dataframe thead th {\n",
       "        text-align: right;\n",
       "    }\n",
       "</style>\n",
       "<table border=\"1\" class=\"dataframe\">\n",
       "  <thead>\n",
       "    <tr style=\"text-align: right;\">\n",
       "      <th></th>\n",
       "      <th>data</th>\n",
       "    </tr>\n",
       "    <tr>\n",
       "      <th>datetime</th>\n",
       "      <th></th>\n",
       "    </tr>\n",
       "  </thead>\n",
       "  <tbody>\n",
       "    <tr>\n",
       "      <th>2015-01-31</th>\n",
       "      <td>47.741935</td>\n",
       "    </tr>\n",
       "    <tr>\n",
       "      <th>2015-02-28</th>\n",
       "      <td>55.250000</td>\n",
       "    </tr>\n",
       "    <tr>\n",
       "      <th>2015-03-31</th>\n",
       "      <td>48.451613</td>\n",
       "    </tr>\n",
       "    <tr>\n",
       "      <th>2015-04-30</th>\n",
       "      <td>45.600000</td>\n",
       "    </tr>\n",
       "    <tr>\n",
       "      <th>2015-05-31</th>\n",
       "      <td>53.354839</td>\n",
       "    </tr>\n",
       "    <tr>\n",
       "      <th>...</th>\n",
       "      <td>...</td>\n",
       "    </tr>\n",
       "    <tr>\n",
       "      <th>2020-06-30</th>\n",
       "      <td>45.733333</td>\n",
       "    </tr>\n",
       "    <tr>\n",
       "      <th>2020-07-31</th>\n",
       "      <td>53.225806</td>\n",
       "    </tr>\n",
       "    <tr>\n",
       "      <th>2020-08-31</th>\n",
       "      <td>39.935484</td>\n",
       "    </tr>\n",
       "    <tr>\n",
       "      <th>2020-09-30</th>\n",
       "      <td>51.500000</td>\n",
       "    </tr>\n",
       "    <tr>\n",
       "      <th>2020-10-31</th>\n",
       "      <td>62.500000</td>\n",
       "    </tr>\n",
       "  </tbody>\n",
       "</table>\n",
       "<p>70 rows × 1 columns</p>\n",
       "</div>"
      ],
      "text/plain": [
       "                 data\n",
       "datetime             \n",
       "2015-01-31  47.741935\n",
       "2015-02-28  55.250000\n",
       "2015-03-31  48.451613\n",
       "2015-04-30  45.600000\n",
       "2015-05-31  53.354839\n",
       "...               ...\n",
       "2020-06-30  45.733333\n",
       "2020-07-31  53.225806\n",
       "2020-08-31  39.935484\n",
       "2020-09-30  51.500000\n",
       "2020-10-31  62.500000\n",
       "\n",
       "[70 rows x 1 columns]"
      ]
     },
     "execution_count": 33,
     "metadata": {},
     "output_type": "execute_result"
    }
   ],
   "source": [
    "df['datetime'] = pd.to_datetime(df.date)\n",
    "df = df.set_index('datetime')\n",
    "\n",
    "#list only the second day of each month\n",
    "#df[df.index.day == 2]\n",
    "\n",
    "# calculate mean of each year\n",
    "df.resample('M').mean()"
   ]
  },
  {
   "cell_type": "code",
   "execution_count": 42,
   "metadata": {},
   "outputs": [
    {
     "data": {
      "text/plain": [
       "3"
      ]
     },
     "execution_count": 42,
     "metadata": {},
     "output_type": "execute_result"
    }
   ],
   "source": [
    "year= 2020\n",
    "month= 2\n",
    "day=6\n",
    "\n",
    "datetime.date(year,month,day).weekday()"
   ]
  },
  {
   "cell_type": "code",
   "execution_count": 45,
   "metadata": {},
   "outputs": [
    {
     "data": {
      "text/plain": [
       "datetime.date(2020, 4, 10)"
      ]
     },
     "execution_count": 45,
     "metadata": {},
     "output_type": "execute_result"
    }
   ],
   "source": [
    "datetime.date.today()"
   ]
  },
  {
   "cell_type": "code",
   "execution_count": null,
   "metadata": {},
   "outputs": [],
   "source": []
  }
 ],
 "metadata": {
  "kernelspec": {
   "display_name": "Python 3.6.9 64-bit",
   "language": "python",
   "name": "python36964bit17c6ebb0882a44ad96e177b7fffe16a0"
  },
  "language_info": {
   "codemirror_mode": {
    "name": "ipython",
    "version": 3
   },
   "file_extension": ".py",
   "mimetype": "text/x-python",
   "name": "python",
   "nbconvert_exporter": "python",
   "pygments_lexer": "ipython3",
   "version": "3.6.9"
  }
 },
 "nbformat": 4,
 "nbformat_minor": 4
}
