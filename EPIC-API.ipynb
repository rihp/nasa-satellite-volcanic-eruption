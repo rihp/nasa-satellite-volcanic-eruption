{
 "cells": [
  {
   "cell_type": "markdown",
   "metadata": {},
   "source": [
    "# Testing the API\n",
    "\n",
    "Satellite data starts being recored on {'date': '2015-06-13'}"
   ]
  },
  {
   "cell_type": "code",
   "execution_count": 1,
   "metadata": {},
   "outputs": [],
   "source": [
    "import requests\n",
    "import os\n",
    "from IPython.display import Image"
   ]
  },
  {
   "cell_type": "code",
   "execution_count": 2,
   "metadata": {},
   "outputs": [],
   "source": [
    "# All Data\n",
    "url = 'https://epic.gsfc.nasa.gov/api/natural/all'\n",
    "\n",
    "# Most Recent\n",
    "url = 'https://epic.gsfc.nasa.gov/api/natural/'\n",
    "\n",
    "# URL by date\n",
    "date = '20180428'\n",
    "url = f'https://epic.gsfc.nasa.gov/api/enhanced/date/{date}'\n",
    "res = requests.get(url)"
   ]
  },
  {
   "cell_type": "code",
   "execution_count": 3,
   "metadata": {
    "scrolled": true
   },
   "outputs": [
    {
     "name": "stdout",
     "output_type": "stream",
     "text": [
      "There are 22 images available\n"
     ]
    },
    {
     "data": {
      "text/plain": [
       "{'identifier': '20180428005516',\n",
       " 'caption': \"This image was taken by NASA's EPIC camera onboard the NOAA DSCOVR spacecraft\",\n",
       " 'image': 'epic_RGB_20180428005516',\n",
       " 'version': '02',\n",
       " 'centroid_coordinates': {'lat': 21.489258, 'lon': 165.871582},\n",
       " 'dscovr_j2000_position': {'x': 1082471.700001,\n",
       "  'y': 765002.975361,\n",
       "  'z': 519622.982812},\n",
       " 'lunar_j2000_position': {'x': -371472.817493,\n",
       "  'y': -85970.908502,\n",
       "  'z': 29631.801617},\n",
       " 'sun_j2000_position': {'x': 119549193.299457,\n",
       "  'y': 84022262.300594,\n",
       "  'z': 36423693.849281},\n",
       " 'attitude_quaternions': {'q0': 0.1799,\n",
       "  'q1': 0.04705,\n",
       "  'q2': -0.936977,\n",
       "  'q3': 0.295793},\n",
       " 'date': '2018-04-28 00:50:27',\n",
       " 'coords': {'centroid_coordinates': {'lat': 21.489258, 'lon': 165.871582},\n",
       "  'dscovr_j2000_position': {'x': 1082471.700001,\n",
       "   'y': 765002.975361,\n",
       "   'z': 519622.982812},\n",
       "  'lunar_j2000_position': {'x': -371472.817493,\n",
       "   'y': -85970.908502,\n",
       "   'z': 29631.801617},\n",
       "  'sun_j2000_position': {'x': 119549193.299457,\n",
       "   'y': 84022262.300594,\n",
       "   'z': 36423693.849281},\n",
       "  'attitude_quaternions': {'q0': 0.1799,\n",
       "   'q1': 0.04705,\n",
       "   'q2': -0.936977,\n",
       "   'q3': 0.295793}}}"
      ]
     },
     "execution_count": 3,
     "metadata": {},
     "output_type": "execute_result"
    }
   ],
   "source": [
    "# Example data retrieved\n",
    "print(f'There are {len(res.json())} images available')\n",
    "res.json()[0]"
   ]
  },
  {
   "cell_type": "code",
   "execution_count": 4,
   "metadata": {},
   "outputs": [
    {
     "data": {
      "text/plain": [
       "[('epic_RGB_20180428005516',\n",
       "  {'lat': 21.489258, 'lon': 165.871582},\n",
       "  '2018-04-28 00:50:27'),\n",
       " ('epic_RGB_20180428020044',\n",
       "  {'lat': 21.489258, 'lon': 149.458008},\n",
       "  '2018-04-28 01:55:55'),\n",
       " ('epic_RGB_20180428030612',\n",
       "  {'lat': 21.533203, 'lon': 133.132324},\n",
       "  '2018-04-28 03:01:23')]"
      ]
     },
     "execution_count": 4,
     "metadata": {},
     "output_type": "execute_result"
    }
   ],
   "source": [
    "# Available data time and coords\n",
    "fetch = 3\n",
    "points = []\n",
    "for e in res.json()[:fetch]:\n",
    "    points.append((e['image'], e['centroid_coordinates'], e['date']))\n",
    "points"
   ]
  },
  {
   "cell_type": "code",
   "execution_count": 5,
   "metadata": {},
   "outputs": [
    {
     "name": "stdout",
     "output_type": "stream",
     "text": [
      "https://epic.gsfc.nasa.gov/archive/enhanced/2018/04/28/jpg/epic_RGB_20180428005516.jpg\n"
     ]
    },
    {
     "data": {
      "text/html": [
       "<img src=\"https://epic.gsfc.nasa.gov/archive/enhanced/2018/04/28/jpg/epic_RGB_20180428005516.jpg\"/>"
      ],
      "text/plain": [
       "<IPython.core.display.Image object>"
      ]
     },
     "metadata": {},
     "output_type": "display_data"
    }
   ],
   "source": [
    "# Access the image\n",
    "size = {'big':'.png', 'med':'jpg'}\n",
    "collection = {'nat': 'natural', 'enh':'enhanced'}\n",
    "img = f\"https://epic.gsfc.nasa.gov/archive/{collection['enh']}/{date[:4]}/{date[4:6]}/{date[6:8]}/{size['med']}/{res.json()[0]['image']}.{size['med']}\"\n",
    "print(img)\n",
    "display(Image(url=img))"
   ]
  },
  {
   "cell_type": "code",
   "execution_count": 6,
   "metadata": {},
   "outputs": [],
   "source": [
    "# Access the image\n",
    "size = {'big':'.png', 'med':'jpg'}\n",
    "collection = {'nat': 'natural', 'enh':'enhanced'}\n",
    "for e in res.json():\n",
    "    img = f\"https://epic.gsfc.nasa.gov/archive/{collection['enh']}/{date[:4]}/{date[4:6]}/{date[6:8]}/png/{e['image']}.{size['big']}\"\n",
    "    #display(Image(url=img))"
   ]
  },
  {
   "cell_type": "code",
   "execution_count": 7,
   "metadata": {},
   "outputs": [
    {
     "name": "stdout",
     "output_type": "stream",
     "text": [
      "20180428005516\n",
      "2018 04 28\n"
     ]
    }
   ],
   "source": [
    "# Example data retrieved\n",
    "print(res.json()[0]['identifier'])\n",
    "YYYYMMDD = res.json()[0]['identifier']\n",
    "year = YYYYMMDD[:4]\n",
    "month = YYYYMMDD[4:6]\n",
    "day = YYYYMMDD[6:8]\n",
    "print(year, month, day)"
   ]
  },
  {
   "cell_type": "code",
   "execution_count": null,
   "metadata": {},
   "outputs": [],
   "source": []
  },
  {
   "cell_type": "code",
   "execution_count": null,
   "metadata": {},
   "outputs": [],
   "source": []
  },
  {
   "cell_type": "markdown",
   "metadata": {},
   "source": [
    "# Basic getSat() by date"
   ]
  },
  {
   "cell_type": "code",
   "execution_count": 8,
   "metadata": {},
   "outputs": [],
   "source": [
    "## VERSION 1\n",
    "def getSat(img_type, YYYY, MM, DD, queryParams=dict(), apiKey=\"\"):\n",
    "    \n",
    "    # Define types of collections\n",
    "    collection = {'nat': 'natural', 'enh':'enhanced'}\n",
    "    \n",
    "    # Request API metadata using query parameters\n",
    "    host = f'https://epic.gsfc.nasa.gov'\n",
    "    metadata = f\"{host}/api/{collection[img_type]}/date/{YYYY}-{MM}-{DD}\"\n",
    "    res = requests.get(metadata, params=queryParams)\n",
    "    print(res.status_code, res.url)\n",
    "\n",
    "    # Construct the resource url\n",
    "    img = f\"{url}/archive/{collection[img_type]}/{YYYY}/{MM}/{DD}/png/{e['image']}.{size['big']}\"\n",
    "\n",
    "    # Return json from requests' response body\n",
    "    return res.json()\n",
    "\n",
    "#getSat('nat', '2020', '04', '09')[1]"
   ]
  },
  {
   "cell_type": "code",
   "execution_count": 9,
   "metadata": {},
   "outputs": [],
   "source": [
    "## VERSION 02\n",
    "# Define when\n",
    "def getSat(img_type, YYYY, MM, DD, queryParams=dict(), apiKey=\"\"):\n",
    "    \n",
    "    # Define types of collections\n",
    "    collection = {'nat': 'natural', 'enh':'enhanced'}\n",
    "    date = f\"{YYYY}-{MM}-{DD}\"\n",
    "    \n",
    "    # Request API metadata using query parameters\n",
    "    host = f'https://epic.gsfc.nasa.gov'\n",
    "    metadata = f\"{host}/api/{collection[img_type]}/date/{date}\"\n",
    "    res = requests.get(metadata, params=queryParams)\n",
    "    \n",
    "    # Report status of query response\n",
    "    print(res.status_code, res.url)\n",
    "    print(f\"There are {len(res.json())} satellite images available for this date: {date}\")\n",
    "\n",
    "    # Store reelevant data from requests' response body\n",
    "    data = []\n",
    "    for e in res.json():\n",
    "        data.append((e['image'], e['centroid_coordinates'], e['date']))\n",
    "    \n",
    "    # Construct the resource url\n",
    "    #img = f\"{url}/archive/{collection[img_type]}/{YYYY}/{MM}/{DD}/png/{e['image']}.{size['big']}\"\n",
    "    \n",
    "    #Return relevant data as list\n",
    "    return data\n",
    "\n",
    "#getSat('nat', '2020', '03', '10')"
   ]
  },
  {
   "cell_type": "code",
   "execution_count": 10,
   "metadata": {},
   "outputs": [],
   "source": [
    "## VERSION 03\n",
    "# Define when\n",
    "def getSat(collection, img_type,YYYY, MM, DD, queryParams=dict(), apiKey=\"\"):\n",
    "    \n",
    "    date = f\"{YYYY}-{MM}-{DD}\"\n",
    "    \n",
    "    # Define types of image collections and size \n",
    "    collections = {'nat': 'natural', 'enh':'enhanced'}\n",
    "\n",
    "    size = {'png': ['png', 'png'],\n",
    "            'jpg': ['jpg', 'jpg'],\n",
    "            'thumb': ['thumbs', 'jpg']}\n",
    "    \n",
    "    \n",
    "    # Request API metadata using query parameters\n",
    "    host = f'https://epic.gsfc.nasa.gov'\n",
    "    metadata = f\"{host}/api/{collections[collection]}/date/{date}\"\n",
    "    res = requests.get(metadata, params=queryParams)\n",
    "    \n",
    "    \n",
    "    # Store reelevant data from requests' response body\n",
    "    data = []\n",
    "    for e in res.json():\n",
    "        data.append((e['image'], e['centroid_coordinates'], e['date']))\n",
    "    \n",
    "    \n",
    "    # Report status of query response\n",
    "    print(res.status_code, res.url)\n",
    "    print(f\"There are {len(res.json())} satellite images available for this date: {date}\")\n",
    "\n",
    "    \n",
    "    # Construct the resource url\n",
    "    if len(data) > 0:\n",
    "        for e in data:\n",
    "            print(e)\n",
    "            img = f\"{host}/archive/{collections[collection]}/{YYYY}/{MM}/{DD}/{size[img_type][0]}/{e[0]}.{size[img_type][1]}\"\n",
    "            print(img)\n",
    "    #Return relevant data as list\n",
    "    return data\n",
    "\n",
    "#getSat('nat', 'thumb', '2020', '03', '10')"
   ]
  },
  {
   "cell_type": "code",
   "execution_count": 11,
   "metadata": {},
   "outputs": [
    {
     "name": "stdout",
     "output_type": "stream",
     "text": [
      "200 https://epic.gsfc.nasa.gov/api/enhanced/date/2020-03-01\n",
      "There are 12 satellite images available for this date: 2020-03-01\n"
     ]
    }
   ],
   "source": [
    "## VERSION 04\n",
    "def getSat(collection, img_type, YYYY,MM,DD, queryParams=dict()):\n",
    "    \n",
    "    date = f\"{YYYY}-{MM}-{DD}\"\n",
    "    \n",
    "    # Define types of image collections and size \n",
    "    collections = {'nat': 'natural', 'enh':'enhanced'}\n",
    "\n",
    "    size = {'png': ['png', 'png'],\n",
    "            'jpg': ['jpg', 'jpg'],\n",
    "            'thumb': ['thumbs', 'jpg']}\n",
    "    \n",
    "    \n",
    "    # Request API metadata using query parameters\n",
    "    host = f'https://epic.gsfc.nasa.gov'\n",
    "    metadata = f\"{host}/api/{collections[collection]}/date/{date}\"\n",
    "    res = requests.get(metadata, params=queryParams)\n",
    "    \n",
    "    \n",
    "    # Store reelevant data from requests' response body\n",
    "    data = []\n",
    "    for e in res.json():\n",
    "        data.append((e['image'], e['centroid_coordinates'], e['date']))\n",
    "    \n",
    "    \n",
    "    # Report status of query response\n",
    "    print(res.status_code, res.url)\n",
    "    print(f\"There are {len(res.json())} satellite images available for this date: {date}\")\n",
    "\n",
    "    \n",
    "    # Construct the image resource url\n",
    "    satellite_images = []\n",
    "    if len(data) > 0:\n",
    "        for e in data:\n",
    "            img = f\"{host}/archive/{collections[collection]}/{YYYY}/{MM}/{DD}/{size[img_type][0]}/{e[0]}.{size[img_type][1]}\"\n",
    "            satellite_images.append([img, e[1]])\n",
    "    #Return relevant data as list\n",
    "    return satellite_images\n",
    "\n",
    "images = getSat('enh', 'thumb', '2020', '03', '01')"
   ]
  },
  {
   "cell_type": "code",
   "execution_count": 12,
   "metadata": {},
   "outputs": [
    {
     "data": {
      "text/html": [
       "<img src=\"https://epic.gsfc.nasa.gov/archive/enhanced/2020/03/01/thumbs/epic_RGB_20200301001752.jpg\"/>"
      ],
      "text/plain": [
       "<IPython.core.display.Image object>"
      ]
     },
     "metadata": {},
     "output_type": "display_data"
    }
   ],
   "source": [
    "display(Image(url=images[0][0]))"
   ]
  },
  {
   "cell_type": "code",
   "execution_count": null,
   "metadata": {},
   "outputs": [],
   "source": []
  },
  {
   "cell_type": "markdown",
   "metadata": {},
   "source": [
    "# Working with datetime"
   ]
  },
  {
   "cell_type": "code",
   "execution_count": 13,
   "metadata": {},
   "outputs": [],
   "source": [
    "import pandas as pd\n",
    "import numpy as np\n",
    "import datetime"
   ]
  },
  {
   "cell_type": "code",
   "execution_count": 22,
   "metadata": {},
   "outputs": [],
   "source": [
    "df = pd.read_csv('OUTPUT/volcanic-explosions.csv')\n",
    "df = df.drop(columns='Unnamed: 0')"
   ]
  },
  {
   "cell_type": "code",
   "execution_count": 26,
   "metadata": {
    "scrolled": false
   },
   "outputs": [
    {
     "name": "stdout",
     "output_type": "stream",
     "text": [
      "['2019', '06', '22']\n",
      "200 https://epic.gsfc.nasa.gov/api/natural/date/2019-06-22\n",
      "There are 22 satellite images available for this date: 2019-06-22\n",
      "['https://epic.gsfc.nasa.gov/archive/natural/2019/06/22/png/epic_1b_20190622004555.png', {'lat': 20.357666, 'lon': 173.430176}]\n",
      "['https://epic.gsfc.nasa.gov/archive/natural/2019/06/22/png/epic_1b_20190622234040.png', {'lat': 20.126953, 'lon': -170.551758}]\n"
     ]
    }
   ],
   "source": [
    "event_date = df.iloc[20]['start']\n",
    "event_date = event_date.split('-')\n",
    "print(event_date)\n",
    "\n",
    "available_data = getSat('nat', 'png', *event_date)\n",
    "print(available_data[0])\n",
    "print(available_data[-1])\n"
   ]
  },
  {
   "cell_type": "code",
   "execution_count": null,
   "metadata": {},
   "outputs": [],
   "source": []
  },
  {
   "cell_type": "code",
   "execution_count": null,
   "metadata": {},
   "outputs": [],
   "source": []
  },
  {
   "cell_type": "code",
   "execution_count": 24,
   "metadata": {},
   "outputs": [
    {
     "ename": "ZeroDivisionError",
     "evalue": "division by zero",
     "output_type": "error",
     "traceback": [
      "\u001b[0;31m---------------------------------------------------------------------------\u001b[0m",
      "\u001b[0;31mZeroDivisionError\u001b[0m                         Traceback (most recent call last)",
      "\u001b[0;32m<ipython-input-24-9ab73e148374>\u001b[0m in \u001b[0;36m<module>\u001b[0;34m\u001b[0m\n\u001b[0;32m----> 1\u001b[0;31m \u001b[0;36m0\u001b[0m\u001b[0;34m/\u001b[0m\u001b[0;36m0\u001b[0m\u001b[0;34m\u001b[0m\u001b[0;34m\u001b[0m\u001b[0m\n\u001b[0m",
      "\u001b[0;31mZeroDivisionError\u001b[0m: division by zero"
     ]
    }
   ],
   "source": [
    "0/0"
   ]
  },
  {
   "cell_type": "code",
   "execution_count": 16,
   "metadata": {},
   "outputs": [
    {
     "data": {
      "text/plain": [
       "DatetimeIndex(['2015-01-01', '2015-01-02', '2015-01-03', '2015-01-04',\n",
       "               '2015-01-05', '2015-01-06', '2015-01-07', '2015-01-08',\n",
       "               '2015-01-09', '2015-01-10',\n",
       "               ...\n",
       "               '2020-09-25', '2020-09-26', '2020-09-27', '2020-09-28',\n",
       "               '2020-09-29', '2020-09-30', '2020-10-01', '2020-10-02',\n",
       "               '2020-10-03', '2020-10-04'],\n",
       "              dtype='datetime64[ns]', length=2104, freq='D')"
      ]
     },
     "execution_count": 16,
     "metadata": {},
     "output_type": "execute_result"
    }
   ],
   "source": [
    "date_rng = pd.date_range(start='1/1/2015', end='10/04/2020', freq='D')\n",
    "date_rng"
   ]
  },
  {
   "cell_type": "code",
   "execution_count": 17,
   "metadata": {},
   "outputs": [
    {
     "data": {
      "text/html": [
       "<div>\n",
       "<style scoped>\n",
       "    .dataframe tbody tr th:only-of-type {\n",
       "        vertical-align: middle;\n",
       "    }\n",
       "\n",
       "    .dataframe tbody tr th {\n",
       "        vertical-align: top;\n",
       "    }\n",
       "\n",
       "    .dataframe thead th {\n",
       "        text-align: right;\n",
       "    }\n",
       "</style>\n",
       "<table border=\"1\" class=\"dataframe\">\n",
       "  <thead>\n",
       "    <tr style=\"text-align: right;\">\n",
       "      <th></th>\n",
       "      <th>date</th>\n",
       "      <th>data</th>\n",
       "    </tr>\n",
       "  </thead>\n",
       "  <tbody>\n",
       "    <tr>\n",
       "      <th>0</th>\n",
       "      <td>2015-01-01</td>\n",
       "      <td>91</td>\n",
       "    </tr>\n",
       "    <tr>\n",
       "      <th>1</th>\n",
       "      <td>2015-01-02</td>\n",
       "      <td>61</td>\n",
       "    </tr>\n",
       "    <tr>\n",
       "      <th>2</th>\n",
       "      <td>2015-01-03</td>\n",
       "      <td>32</td>\n",
       "    </tr>\n",
       "    <tr>\n",
       "      <th>3</th>\n",
       "      <td>2015-01-04</td>\n",
       "      <td>90</td>\n",
       "    </tr>\n",
       "    <tr>\n",
       "      <th>4</th>\n",
       "      <td>2015-01-05</td>\n",
       "      <td>25</td>\n",
       "    </tr>\n",
       "  </tbody>\n",
       "</table>\n",
       "</div>"
      ],
      "text/plain": [
       "        date  data\n",
       "0 2015-01-01    91\n",
       "1 2015-01-02    61\n",
       "2 2015-01-03    32\n",
       "3 2015-01-04    90\n",
       "4 2015-01-05    25"
      ]
     },
     "execution_count": 17,
     "metadata": {},
     "output_type": "execute_result"
    }
   ],
   "source": [
    "df = pd.DataFrame(date_rng, columns=['date'])\n",
    "df['data'] = np.random.randint(0,100, size=(len(date_rng)))\n",
    "df.head()"
   ]
  },
  {
   "cell_type": "code",
   "execution_count": 18,
   "metadata": {
    "scrolled": true
   },
   "outputs": [
    {
     "data": {
      "text/html": [
       "<div>\n",
       "<style scoped>\n",
       "    .dataframe tbody tr th:only-of-type {\n",
       "        vertical-align: middle;\n",
       "    }\n",
       "\n",
       "    .dataframe tbody tr th {\n",
       "        vertical-align: top;\n",
       "    }\n",
       "\n",
       "    .dataframe thead th {\n",
       "        text-align: right;\n",
       "    }\n",
       "</style>\n",
       "<table border=\"1\" class=\"dataframe\">\n",
       "  <thead>\n",
       "    <tr style=\"text-align: right;\">\n",
       "      <th></th>\n",
       "      <th>data</th>\n",
       "    </tr>\n",
       "    <tr>\n",
       "      <th>datetime</th>\n",
       "      <th></th>\n",
       "    </tr>\n",
       "  </thead>\n",
       "  <tbody>\n",
       "    <tr>\n",
       "      <th>2015-01-31</th>\n",
       "      <td>48.741935</td>\n",
       "    </tr>\n",
       "    <tr>\n",
       "      <th>2015-02-28</th>\n",
       "      <td>43.464286</td>\n",
       "    </tr>\n",
       "    <tr>\n",
       "      <th>2015-03-31</th>\n",
       "      <td>45.322581</td>\n",
       "    </tr>\n",
       "    <tr>\n",
       "      <th>2015-04-30</th>\n",
       "      <td>47.533333</td>\n",
       "    </tr>\n",
       "    <tr>\n",
       "      <th>2015-05-31</th>\n",
       "      <td>56.000000</td>\n",
       "    </tr>\n",
       "    <tr>\n",
       "      <th>...</th>\n",
       "      <td>...</td>\n",
       "    </tr>\n",
       "    <tr>\n",
       "      <th>2020-06-30</th>\n",
       "      <td>56.300000</td>\n",
       "    </tr>\n",
       "    <tr>\n",
       "      <th>2020-07-31</th>\n",
       "      <td>49.548387</td>\n",
       "    </tr>\n",
       "    <tr>\n",
       "      <th>2020-08-31</th>\n",
       "      <td>54.129032</td>\n",
       "    </tr>\n",
       "    <tr>\n",
       "      <th>2020-09-30</th>\n",
       "      <td>51.733333</td>\n",
       "    </tr>\n",
       "    <tr>\n",
       "      <th>2020-10-31</th>\n",
       "      <td>47.000000</td>\n",
       "    </tr>\n",
       "  </tbody>\n",
       "</table>\n",
       "<p>70 rows × 1 columns</p>\n",
       "</div>"
      ],
      "text/plain": [
       "                 data\n",
       "datetime             \n",
       "2015-01-31  48.741935\n",
       "2015-02-28  43.464286\n",
       "2015-03-31  45.322581\n",
       "2015-04-30  47.533333\n",
       "2015-05-31  56.000000\n",
       "...               ...\n",
       "2020-06-30  56.300000\n",
       "2020-07-31  49.548387\n",
       "2020-08-31  54.129032\n",
       "2020-09-30  51.733333\n",
       "2020-10-31  47.000000\n",
       "\n",
       "[70 rows x 1 columns]"
      ]
     },
     "execution_count": 18,
     "metadata": {},
     "output_type": "execute_result"
    }
   ],
   "source": [
    "df['datetime'] = pd.to_datetime(df.date)\n",
    "df = df.set_index('datetime')\n",
    "\n",
    "#list only the second day of each month\n",
    "#df[df.index.day == 2]\n",
    "\n",
    "# calculate mean of each year\n",
    "df.resample('M').mean()"
   ]
  },
  {
   "cell_type": "code",
   "execution_count": 19,
   "metadata": {},
   "outputs": [
    {
     "data": {
      "text/plain": [
       "3"
      ]
     },
     "execution_count": 19,
     "metadata": {},
     "output_type": "execute_result"
    }
   ],
   "source": [
    "year= 2020\n",
    "month= 2\n",
    "day=6\n",
    "\n",
    "datetime.date(year,month,day).weekday()"
   ]
  },
  {
   "cell_type": "code",
   "execution_count": 20,
   "metadata": {},
   "outputs": [
    {
     "data": {
      "text/plain": [
       "datetime.date(2020, 4, 11)"
      ]
     },
     "execution_count": 20,
     "metadata": {},
     "output_type": "execute_result"
    }
   ],
   "source": [
    "datetime.date.today()"
   ]
  },
  {
   "cell_type": "code",
   "execution_count": null,
   "metadata": {},
   "outputs": [],
   "source": []
  }
 ],
 "metadata": {
  "kernelspec": {
   "display_name": "Python 3.6.9 64-bit",
   "language": "python",
   "name": "python36964bit17c6ebb0882a44ad96e177b7fffe16a0"
  },
  "language_info": {
   "codemirror_mode": {
    "name": "ipython",
    "version": 3
   },
   "file_extension": ".py",
   "mimetype": "text/x-python",
   "name": "python",
   "nbconvert_exporter": "python",
   "pygments_lexer": "ipython3",
   "version": "3.6.9"
  }
 },
 "nbformat": 4,
 "nbformat_minor": 4
}
