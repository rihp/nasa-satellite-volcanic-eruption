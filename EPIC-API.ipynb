{
 "cells": [
  {
   "cell_type": "markdown",
   "metadata": {},
   "source": [
    "# Testing the API\n",
    "\n",
    "Satellite data starts being recored on {'date': '2015-06-13'}"
   ]
  },
  {
   "cell_type": "code",
   "execution_count": 1,
   "metadata": {},
   "outputs": [],
   "source": [
    "import requests\n",
    "import os\n",
    "from IPython.display import Image"
   ]
  },
  {
   "cell_type": "code",
   "execution_count": 2,
   "metadata": {},
   "outputs": [],
   "source": [
    "# All Data\n",
    "url = 'https://epic.gsfc.nasa.gov/api/natural/all'\n",
    "\n",
    "# Most Recent\n",
    "url = 'https://epic.gsfc.nasa.gov/api/natural/'\n",
    "\n",
    "# URL by date\n",
    "date = '20180428'\n",
    "url = f'https://epic.gsfc.nasa.gov/api/enhanced/date/{date}'\n",
    "res = requests.get(url)"
   ]
  },
  {
   "cell_type": "code",
   "execution_count": 3,
   "metadata": {
    "scrolled": true
   },
   "outputs": [
    {
     "name": "stdout",
     "output_type": "stream",
     "text": [
      "There are 22 images available\n"
     ]
    },
    {
     "data": {
      "text/plain": [
       "{'identifier': '20180428005516',\n",
       " 'caption': \"This image was taken by NASA's EPIC camera onboard the NOAA DSCOVR spacecraft\",\n",
       " 'image': 'epic_RGB_20180428005516',\n",
       " 'version': '02',\n",
       " 'centroid_coordinates': {'lat': 21.489258, 'lon': 165.871582},\n",
       " 'dscovr_j2000_position': {'x': 1082471.700001,\n",
       "  'y': 765002.975361,\n",
       "  'z': 519622.982812},\n",
       " 'lunar_j2000_position': {'x': -371472.817493,\n",
       "  'y': -85970.908502,\n",
       "  'z': 29631.801617},\n",
       " 'sun_j2000_position': {'x': 119549193.299457,\n",
       "  'y': 84022262.300594,\n",
       "  'z': 36423693.849281},\n",
       " 'attitude_quaternions': {'q0': 0.1799,\n",
       "  'q1': 0.04705,\n",
       "  'q2': -0.936977,\n",
       "  'q3': 0.295793},\n",
       " 'date': '2018-04-28 00:50:27',\n",
       " 'coords': {'centroid_coordinates': {'lat': 21.489258, 'lon': 165.871582},\n",
       "  'dscovr_j2000_position': {'x': 1082471.700001,\n",
       "   'y': 765002.975361,\n",
       "   'z': 519622.982812},\n",
       "  'lunar_j2000_position': {'x': -371472.817493,\n",
       "   'y': -85970.908502,\n",
       "   'z': 29631.801617},\n",
       "  'sun_j2000_position': {'x': 119549193.299457,\n",
       "   'y': 84022262.300594,\n",
       "   'z': 36423693.849281},\n",
       "  'attitude_quaternions': {'q0': 0.1799,\n",
       "   'q1': 0.04705,\n",
       "   'q2': -0.936977,\n",
       "   'q3': 0.295793}}}"
      ]
     },
     "execution_count": 3,
     "metadata": {},
     "output_type": "execute_result"
    }
   ],
   "source": [
    "# Example data retrieved\n",
    "print(f'There are {len(res.json())} images available')\n",
    "res.json()[0]"
   ]
  },
  {
   "cell_type": "code",
   "execution_count": 4,
   "metadata": {},
   "outputs": [
    {
     "data": {
      "text/plain": [
       "[('epic_RGB_20180428005516',\n",
       "  {'lat': 21.489258, 'lon': 165.871582},\n",
       "  '2018-04-28 00:50:27'),\n",
       " ('epic_RGB_20180428020044',\n",
       "  {'lat': 21.489258, 'lon': 149.458008},\n",
       "  '2018-04-28 01:55:55'),\n",
       " ('epic_RGB_20180428030612',\n",
       "  {'lat': 21.533203, 'lon': 133.132324},\n",
       "  '2018-04-28 03:01:23')]"
      ]
     },
     "execution_count": 4,
     "metadata": {},
     "output_type": "execute_result"
    }
   ],
   "source": [
    "# Available data time and coords\n",
    "fetch = 3\n",
    "points = []\n",
    "for e in res.json()[:fetch]:\n",
    "    points.append((e['image'], e['centroid_coordinates'], e['date']))\n",
    "points"
   ]
  },
  {
   "cell_type": "code",
   "execution_count": 5,
   "metadata": {},
   "outputs": [
    {
     "name": "stdout",
     "output_type": "stream",
     "text": [
      "https://epic.gsfc.nasa.gov/archive/enhanced/2018/04/28/jpg/epic_RGB_20180428005516.jpg\n"
     ]
    },
    {
     "data": {
      "text/html": [
       "<img src=\"https://epic.gsfc.nasa.gov/archive/enhanced/2018/04/28/jpg/epic_RGB_20180428005516.jpg\"/>"
      ],
      "text/plain": [
       "<IPython.core.display.Image object>"
      ]
     },
     "metadata": {},
     "output_type": "display_data"
    }
   ],
   "source": [
    "# Access the image\n",
    "size = {'big':'.png', 'med':'jpg'}\n",
    "collection = {'nat': 'natural', 'enh':'enhanced'}\n",
    "img = f\"https://epic.gsfc.nasa.gov/archive/{collection['enh']}/{date[:4]}/{date[4:6]}/{date[6:8]}/{size['med']}/{res.json()[0]['image']}.{size['med']}\"\n",
    "print(img)\n",
    "display(Image(url=img))"
   ]
  },
  {
   "cell_type": "code",
   "execution_count": 6,
   "metadata": {},
   "outputs": [],
   "source": [
    "# Access the image\n",
    "size = {'big':'.png', 'med':'jpg'}\n",
    "collection = {'nat': 'natural', 'enh':'enhanced'}\n",
    "for e in res.json():\n",
    "    img = f\"https://epic.gsfc.nasa.gov/archive/{collection['enh']}/{date[:4]}/{date[4:6]}/{date[6:8]}/png/{e['image']}.{size['big']}\"\n",
    "    #display(Image(url=img))"
   ]
  },
  {
   "cell_type": "code",
   "execution_count": 7,
   "metadata": {},
   "outputs": [
    {
     "name": "stdout",
     "output_type": "stream",
     "text": [
      "20180428005516\n",
      "2018 04 28\n"
     ]
    }
   ],
   "source": [
    "# Example data retrieved\n",
    "print(res.json()[0]['identifier'])\n",
    "YYYYMMDD = res.json()[0]['identifier']\n",
    "year = YYYYMMDD[:4]\n",
    "month = YYYYMMDD[4:6]\n",
    "day = YYYYMMDD[6:8]\n",
    "print(year, month, day)"
   ]
  },
  {
   "cell_type": "code",
   "execution_count": null,
   "metadata": {},
   "outputs": [],
   "source": []
  },
  {
   "cell_type": "code",
   "execution_count": null,
   "metadata": {},
   "outputs": [],
   "source": []
  },
  {
   "cell_type": "markdown",
   "metadata": {},
   "source": [
    "# Basic getSat() by date"
   ]
  },
  {
   "cell_type": "code",
   "execution_count": 8,
   "metadata": {},
   "outputs": [],
   "source": [
    "## VERSION 1\n",
    "def getSat(img_type, YYYY, MM, DD, queryParams=dict(), apiKey=\"\"):\n",
    "    \n",
    "    # Define types of collections\n",
    "    collection = {'nat': 'natural', 'enh':'enhanced'}\n",
    "    \n",
    "    # Request API metadata using query parameters\n",
    "    host = f'https://epic.gsfc.nasa.gov'\n",
    "    metadata = f\"{host}/api/{collection[img_type]}/date/{YYYY}-{MM}-{DD}\"\n",
    "    res = requests.get(metadata, params=queryParams)\n",
    "    print(res.status_code, res.url)\n",
    "\n",
    "    # Construct the resource url\n",
    "    img = f\"{url}/archive/{collection[img_type]}/{YYYY}/{MM}/{DD}/png/{e['image']}.{size['big']}\"\n",
    "\n",
    "    # Return json from requests' response body\n",
    "    return res.json()\n",
    "\n",
    "#getSat('nat', '2020', '04', '09')[1]"
   ]
  },
  {
   "cell_type": "code",
   "execution_count": 9,
   "metadata": {},
   "outputs": [],
   "source": [
    "## VERSION 02\n",
    "# Define when\n",
    "def getSat(img_type, YYYY, MM, DD, queryParams=dict(), apiKey=\"\"):\n",
    "    \n",
    "    # Define types of collections\n",
    "    collection = {'nat': 'natural', 'enh':'enhanced'}\n",
    "    date = f\"{YYYY}-{MM}-{DD}\"\n",
    "    \n",
    "    # Request API metadata using query parameters\n",
    "    host = f'https://epic.gsfc.nasa.gov'\n",
    "    metadata = f\"{host}/api/{collection[img_type]}/date/{date}\"\n",
    "    res = requests.get(metadata, params=queryParams)\n",
    "    \n",
    "    # Report status of query response\n",
    "    print(res.status_code, res.url)\n",
    "    print(f\"There are {len(res.json())} satellite images available for this date: {date}\")\n",
    "\n",
    "    # Store reelevant data from requests' response body\n",
    "    data = []\n",
    "    for e in res.json():\n",
    "        data.append((e['image'], e['centroid_coordinates'], e['date']))\n",
    "    \n",
    "    # Construct the resource url\n",
    "    #img = f\"{url}/archive/{collection[img_type]}/{YYYY}/{MM}/{DD}/png/{e['image']}.{size['big']}\"\n",
    "    \n",
    "    #Return relevant data as list\n",
    "    return data\n",
    "\n",
    "#getSat('nat', '2020', '03', '10')"
   ]
  },
  {
   "cell_type": "code",
   "execution_count": 10,
   "metadata": {},
   "outputs": [],
   "source": [
    "## VERSION 03\n",
    "# Define when\n",
    "def getSat(collection, img_type,YYYY, MM, DD, queryParams=dict(), apiKey=\"\"):\n",
    "    \n",
    "    date = f\"{YYYY}-{MM}-{DD}\"\n",
    "    \n",
    "    # Define types of image collections and size \n",
    "    collections = {'nat': 'natural', 'enh':'enhanced'}\n",
    "\n",
    "    size = {'png': ['png', 'png'],\n",
    "            'jpg': ['jpg', 'jpg'],\n",
    "            'thumb': ['thumbs', 'jpg']}\n",
    "    \n",
    "    \n",
    "    # Request API metadata using query parameters\n",
    "    host = f'https://epic.gsfc.nasa.gov'\n",
    "    metadata = f\"{host}/api/{collections[collection]}/date/{date}\"\n",
    "    res = requests.get(metadata, params=queryParams)\n",
    "    \n",
    "    \n",
    "    # Store reelevant data from requests' response body\n",
    "    data = []\n",
    "    for e in res.json():\n",
    "        data.append((e['image'], e['centroid_coordinates'], e['date']))\n",
    "    \n",
    "    \n",
    "    # Report status of query response\n",
    "    print(res.status_code, res.url)\n",
    "    print(f\"There are {len(res.json())} satellite images available for this date: {date}\")\n",
    "\n",
    "    \n",
    "    # Construct the resource url\n",
    "    if len(data) > 0:\n",
    "        for e in data:\n",
    "            print(e)\n",
    "            img = f\"{host}/archive/{collections[collection]}/{YYYY}/{MM}/{DD}/{size[img_type][0]}/{e[0]}.{size[img_type][1]}\"\n",
    "            print(img)\n",
    "    #Return relevant data as list\n",
    "    return data\n",
    "\n",
    "#getSat('nat', 'thumb', '2020', '03', '10')"
   ]
  },
  {
   "cell_type": "code",
   "execution_count": 11,
   "metadata": {},
   "outputs": [
    {
     "name": "stdout",
     "output_type": "stream",
     "text": [
      "200 https://epic.gsfc.nasa.gov/api/enhanced/date/2020-03-01\n",
      "There are 12 satellite images available for this date: 2020-03-01\n"
     ]
    }
   ],
   "source": [
    "## VERSION 04\n",
    "def getSat(collection, img_type, YYYY,MM,DD, queryParams=dict()):\n",
    "    \n",
    "    date = f\"{YYYY}-{MM}-{DD}\"\n",
    "    \n",
    "    # Define types of image collections and size \n",
    "    collections = {'nat': 'natural', 'enh':'enhanced'}\n",
    "\n",
    "    size = {'png': ['png', 'png'],\n",
    "            'jpg': ['jpg', 'jpg'],\n",
    "            'thumb': ['thumbs', 'jpg']}\n",
    "    \n",
    "    \n",
    "    # Request API metadata using query parameters\n",
    "    host = f'https://epic.gsfc.nasa.gov'\n",
    "    metadata = f\"{host}/api/{collections[collection]}/date/{date}\"\n",
    "    res = requests.get(metadata, params=queryParams)\n",
    "    \n",
    "    \n",
    "    # Store reelevant data from requests' response body\n",
    "    data = []\n",
    "    for e in res.json():\n",
    "        data.append((e['image'], e['centroid_coordinates'], e['date']))\n",
    "    \n",
    "    \n",
    "    # Report status of query response\n",
    "    print(res.status_code, res.url)\n",
    "    print(f\"There are {len(res.json())} satellite images available for this date: {date}\")\n",
    "\n",
    "    \n",
    "    # Construct the image resource url\n",
    "    satellite_images = []\n",
    "    if len(data) > 0:\n",
    "        for e in data:\n",
    "            img = f\"{host}/archive/{collections[collection]}/{YYYY}/{MM}/{DD}/{size[img_type][0]}/{e[0]}.{size[img_type][1]}\"\n",
    "            satellite_images.append([img, e[1]])\n",
    "    #Return relevant data as list\n",
    "    return satellite_images\n",
    "\n",
    "images = getSat('enh', 'thumb', '2020', '03', '01')"
   ]
  },
  {
   "cell_type": "code",
   "execution_count": 12,
   "metadata": {},
   "outputs": [
    {
     "data": {
      "text/html": [
       "<img src=\"https://epic.gsfc.nasa.gov/archive/enhanced/2020/03/01/thumbs/epic_RGB_20200301001752.jpg\"/>"
      ],
      "text/plain": [
       "<IPython.core.display.Image object>"
      ]
     },
     "metadata": {},
     "output_type": "display_data"
    }
   ],
   "source": [
    "display(Image(url=images[0][0]))"
   ]
  },
  {
   "cell_type": "code",
   "execution_count": null,
   "metadata": {},
   "outputs": [],
   "source": []
  },
  {
   "cell_type": "markdown",
   "metadata": {},
   "source": [
    "# Working with cleaned dataset dates"
   ]
  },
  {
   "cell_type": "code",
   "execution_count": 13,
   "metadata": {},
   "outputs": [],
   "source": [
    "import pandas as pd\n",
    "import numpy as np\n",
    "import datetime"
   ]
  },
  {
   "cell_type": "code",
   "execution_count": 22,
   "metadata": {},
   "outputs": [],
   "source": [
    "df = pd.read_csv('OUTPUT/volcanic-explosions.csv')\n",
    "df = df.drop(columns='Unnamed: 0')"
   ]
  },
  {
   "cell_type": "code",
   "execution_count": 27,
   "metadata": {
    "scrolled": false
   },
   "outputs": [
    {
     "name": "stdout",
     "output_type": "stream",
     "text": [
      "['2019', '06', '22']\n",
      "200 https://epic.gsfc.nasa.gov/api/natural/date/2019-06-22\n",
      "There are 22 satellite images available for this date: 2019-06-22\n",
      "['https://epic.gsfc.nasa.gov/archive/natural/2019/06/22/png/epic_1b_20190622004555.png', {'lat': 20.357666, 'lon': 173.430176}]\n",
      "['https://epic.gsfc.nasa.gov/archive/natural/2019/06/22/png/epic_1b_20190622234040.png', {'lat': 20.126953, 'lon': -170.551758}]\n"
     ]
    }
   ],
   "source": [
    "# Select an event on the dataframe for which we know there is available data in the API\n",
    "event_date = df.iloc[20]['start']\n",
    "event_date = event_date.split('-')\n",
    "print(event_date)\n",
    "\n",
    "# GET the API image and coordinates\n",
    "available_data = getSat('nat', 'png', *event_date)\n",
    "print(available_data[0])\n",
    "print(available_data[-1])"
   ]
  },
  {
   "cell_type": "markdown",
   "metadata": {},
   "source": [
    "# Finding the satellite images for the START of each eruptive phase"
   ]
  },
  {
   "cell_type": "code",
   "execution_count": 35,
   "metadata": {},
   "outputs": [
    {
     "name": "stdout",
     "output_type": "stream",
     "text": [
      "2019-12-09\n",
      "200 https://epic.gsfc.nasa.gov/api/natural/date/2019-12-09\n",
      "There are 0 satellite images available for this date: 2019-12-09\n",
      "[]\n",
      "2019-12-07\n",
      "200 https://epic.gsfc.nasa.gov/api/natural/date/2019-12-07\n",
      "There are 0 satellite images available for this date: 2019-12-07\n",
      "[]\n",
      "2019-12-05\n",
      "200 https://epic.gsfc.nasa.gov/api/natural/date/2019-12-05\n",
      "There are 0 satellite images available for this date: 2019-12-05\n",
      "[]\n",
      "2019-11-07\n",
      "200 https://epic.gsfc.nasa.gov/api/natural/date/2019-11-07\n",
      "There are 0 satellite images available for this date: 2019-11-07\n",
      "[]\n",
      "2019-11-02\n",
      "200 https://epic.gsfc.nasa.gov/api/natural/date/2019-11-02\n",
      "There are 0 satellite images available for this date: 2019-11-02\n",
      "[]\n",
      "2019-10-24\n",
      "200 https://epic.gsfc.nasa.gov/api/natural/date/2019-10-24\n",
      "There are 0 satellite images available for this date: 2019-10-24\n",
      "[]\n",
      "2019-10-13\n",
      "200 https://epic.gsfc.nasa.gov/api/natural/date/2019-10-13\n",
      "There are 0 satellite images available for this date: 2019-10-13\n",
      "[]\n",
      "2019-08-07\n",
      "200 https://epic.gsfc.nasa.gov/api/natural/date/2019-08-07\n",
      "There are 0 satellite images available for this date: 2019-08-07\n",
      "[]\n",
      "2019-08-02\n",
      "200 https://epic.gsfc.nasa.gov/api/natural/date/2019-08-02\n",
      "There are 0 satellite images available for this date: 2019-08-02\n",
      "[]\n",
      "2019-07-26\n",
      "200 https://epic.gsfc.nasa.gov/api/natural/date/2019-07-26\n",
      "There are 0 satellite images available for this date: 2019-07-26\n",
      "[]\n",
      "2019-07-23\n",
      "200 https://epic.gsfc.nasa.gov/api/natural/date/2019-07-23\n",
      "There are 0 satellite images available for this date: 2019-07-23\n",
      "[]\n",
      "2019-07-23\n",
      "200 https://epic.gsfc.nasa.gov/api/natural/date/2019-07-23\n",
      "There are 0 satellite images available for this date: 2019-07-23\n",
      "[]\n",
      "2019-07-16\n",
      "200 https://epic.gsfc.nasa.gov/api/natural/date/2019-07-16\n",
      "There are 0 satellite images available for this date: 2019-07-16\n",
      "[]\n",
      "2019-06-26\n",
      "200 https://epic.gsfc.nasa.gov/api/natural/date/2019-06-26\n",
      "There are 22 satellite images available for this date: 2019-06-26\n",
      "[['https://epic.gsfc.nasa.gov/archive/natural/2019/06/26/thumbs/epic_1b_20190626001751.jpg', {'lat': 19.54834, 'lon': 179.216309}], ['https://epic.gsfc.nasa.gov/archive/natural/2019/06/26/thumbs/epic_1b_20190626012319.jpg', {'lat': 19.504395, 'lon': 162.780762}], ['https://epic.gsfc.nasa.gov/archive/natural/2019/06/26/thumbs/epic_1b_20190626022847.jpg', {'lat': 19.562988, 'lon': 146.418457}], ['https://epic.gsfc.nasa.gov/archive/natural/2019/06/26/thumbs/epic_1b_20190626033415.jpg', {'lat': 19.511719, 'lon': 130.03418}], ['https://epic.gsfc.nasa.gov/archive/natural/2019/06/26/thumbs/epic_1b_20190626043942.jpg', {'lat': 19.504395, 'lon': 113.679199}], ['https://epic.gsfc.nasa.gov/archive/natural/2019/06/26/thumbs/epic_1b_20190626054510.jpg', {'lat': 19.467773, 'lon': 97.272949}], ['https://epic.gsfc.nasa.gov/archive/natural/2019/06/26/thumbs/epic_1b_20190626065038.jpg', {'lat': 19.467773, 'lon': 80.859375}], ['https://epic.gsfc.nasa.gov/archive/natural/2019/06/26/thumbs/epic_1b_20190626075605.jpg', {'lat': 19.489746, 'lon': 64.467773}], ['https://epic.gsfc.nasa.gov/archive/natural/2019/06/26/thumbs/epic_1b_20190626090133.jpg', {'lat': 19.445801, 'lon': 48.164062}], ['https://epic.gsfc.nasa.gov/archive/natural/2019/06/26/thumbs/epic_1b_20190626100701.jpg', {'lat': 19.456787, 'lon': 31.794434}], ['https://epic.gsfc.nasa.gov/archive/natural/2019/06/26/thumbs/epic_1b_20190626111229.jpg', {'lat': 19.475098, 'lon': 15.505371}], ['https://epic.gsfc.nasa.gov/archive/natural/2019/06/26/thumbs/epic_1b_20190626121757.jpg', {'lat': 19.460449, 'lon': -1.003418}], ['https://epic.gsfc.nasa.gov/archive/natural/2019/06/26/thumbs/epic_1b_20190626132324.jpg', {'lat': 19.431152, 'lon': -17.365723}], ['https://epic.gsfc.nasa.gov/archive/natural/2019/06/26/thumbs/epic_1b_20190626142852.jpg', {'lat': 19.416504, 'lon': -33.757324}], ['https://epic.gsfc.nasa.gov/archive/natural/2019/06/26/thumbs/epic_1b_20190626153421.jpg', {'lat': 19.423828, 'lon': -50.119629}], ['https://epic.gsfc.nasa.gov/archive/natural/2019/06/26/thumbs/epic_1b_20190626163949.jpg', {'lat': 19.372559, 'lon': -66.540527}], ['https://epic.gsfc.nasa.gov/archive/natural/2019/06/26/thumbs/epic_1b_20190626174516.jpg', {'lat': 19.416504, 'lon': -82.91748}], ['https://epic.gsfc.nasa.gov/archive/natural/2019/06/26/thumbs/epic_1b_20190626185044.jpg', {'lat': 19.379883, 'lon': -99.272461}], ['https://epic.gsfc.nasa.gov/archive/natural/2019/06/26/thumbs/epic_1b_20190626195612.jpg', {'lat': 19.372559, 'lon': -115.715332}], ['https://epic.gsfc.nasa.gov/archive/natural/2019/06/26/thumbs/epic_1b_20190626210140.jpg', {'lat': 19.390869, 'lon': -132.077637}], ['https://epic.gsfc.nasa.gov/archive/natural/2019/06/26/thumbs/epic_1b_20190626220707.jpg', {'lat': 19.335938, 'lon': -148.447266}], ['https://epic.gsfc.nasa.gov/archive/natural/2019/06/26/thumbs/epic_1b_20190626231235.jpg', {'lat': 19.372559, 'lon': -164.831543}]]\n",
      "2019-06-24\n",
      "200 https://epic.gsfc.nasa.gov/api/natural/date/2019-06-24\n",
      "There are 19 satellite images available for this date: 2019-06-24\n",
      "[['https://epic.gsfc.nasa.gov/archive/natural/2019/06/24/thumbs/epic_1b_20190624041139.jpg', {'lat': 19.943848, 'lon': 121.325684}], ['https://epic.gsfc.nasa.gov/archive/natural/2019/06/24/thumbs/epic_1b_20190624051707.jpg', {'lat': 19.899902, 'lon': 104.904785}], ['https://epic.gsfc.nasa.gov/archive/natural/2019/06/24/thumbs/epic_1b_20190624062235.jpg', {'lat': 19.852295, 'lon': 88.527832}], ['https://epic.gsfc.nasa.gov/archive/natural/2019/06/24/thumbs/epic_1b_20190624072802.jpg', {'lat': 19.870605, 'lon': 72.209473}], ['https://epic.gsfc.nasa.gov/archive/natural/2019/06/24/thumbs/epic_1b_20190624083330.jpg', {'lat': 19.841309, 'lon': 55.766602}], ['https://epic.gsfc.nasa.gov/archive/natural/2019/06/24/thumbs/epic_1b_20190624093858.jpg', {'lat': 19.914551, 'lon': 39.411621}], ['https://epic.gsfc.nasa.gov/archive/natural/2019/06/24/thumbs/epic_1b_20190624104426.jpg', {'lat': 19.870605, 'lon': 23.034668}], ['https://epic.gsfc.nasa.gov/archive/natural/2019/06/24/thumbs/epic_1b_20190624114954.jpg', {'lat': 19.82666, 'lon': 6.672363}], ['https://epic.gsfc.nasa.gov/archive/natural/2019/06/24/thumbs/epic_1b_20190624125521.jpg', {'lat': 19.841309, 'lon': -9.711914}], ['https://epic.gsfc.nasa.gov/archive/natural/2019/06/24/thumbs/epic_1b_20190624140049.jpg', {'lat': 19.82666, 'lon': -26.066895}], ['https://epic.gsfc.nasa.gov/archive/natural/2019/06/24/thumbs/epic_1b_20190624150617.jpg', {'lat': 19.819336, 'lon': -42.539062}], ['https://epic.gsfc.nasa.gov/archive/natural/2019/06/24/thumbs/epic_1b_20190624161145.jpg', {'lat': 19.812012, 'lon': -58.92334}], ['https://epic.gsfc.nasa.gov/archive/natural/2019/06/24/thumbs/epic_1b_20190624171713.jpg', {'lat': 19.768066, 'lon': -75.270996}], ['https://epic.gsfc.nasa.gov/archive/natural/2019/06/24/thumbs/epic_1b_20190624182241.jpg', {'lat': 19.782715, 'lon': -91.633301}], ['https://epic.gsfc.nasa.gov/archive/natural/2019/06/24/thumbs/epic_1b_20190624192808.jpg', {'lat': 19.775391, 'lon': -107.973633}], ['https://epic.gsfc.nasa.gov/archive/natural/2019/06/24/thumbs/epic_1b_20190624203336.jpg', {'lat': 19.782715, 'lon': -124.372559}], ['https://epic.gsfc.nasa.gov/archive/natural/2019/06/24/thumbs/epic_1b_20190624213904.jpg', {'lat': 19.797363, 'lon': -140.800781}], ['https://epic.gsfc.nasa.gov/archive/natural/2019/06/24/thumbs/epic_1b_20190624224432.jpg', {'lat': 19.753418, 'lon': -157.214355}], ['https://epic.gsfc.nasa.gov/archive/natural/2019/06/24/thumbs/epic_1b_20190624235000.jpg', {'lat': 19.731445, 'lon': -173.562012}]]\n"
     ]
    }
   ],
   "source": [
    "# Access the START dates on each eruptive phase\n",
    "for phase in df['start'][5:20]:\n",
    "    print(phase)\n",
    "    print(getSat('nat', 'thumb', *phase.split('-')))"
   ]
  },
  {
   "cell_type": "code",
   "execution_count": 58,
   "metadata": {},
   "outputs": [
    {
     "name": "stdout",
     "output_type": "stream",
     "text": [
      "2020-02-10\n",
      "200 https://epic.gsfc.nasa.gov/api/natural/date/2020-02-10\n",
      "There are 0 satellite images available for this date: 2020-02-10\n",
      "2019-10-24\n",
      "200 https://epic.gsfc.nasa.gov/api/natural/date/2019-10-24\n",
      "There are 0 satellite images available for this date: 2019-10-24\n",
      "2019-06-22\n",
      "200 https://epic.gsfc.nasa.gov/api/natural/date/2019-06-22\n",
      "There are 22 satellite images available for this date: 2019-06-22\n",
      "This is the first available image for that date\n",
      "['https://epic.gsfc.nasa.gov/archive/natural/2019/06/22/thumbs/epic_1b_20190622004555.jpg', {'lat': 20.357666, 'lon': 173.430176}]\n",
      "2019-02-18\n",
      "200 https://epic.gsfc.nasa.gov/api/natural/date/2019-02-18\n",
      "There are 13 satellite images available for this date: 2019-02-18\n",
      "This is the first available image for that date\n",
      "['https://epic.gsfc.nasa.gov/archive/natural/2019/02/18/thumbs/epic_1b_20190218001751.jpg', {'lat': -19.533691, 'lon': 171.254883}]\n",
      "2018-10-02\n",
      "200 https://epic.gsfc.nasa.gov/api/natural/date/2018-10-02\n",
      "There are 13 satellite images available for this date: 2018-10-02\n",
      "This is the first available image for that date\n",
      "['https://epic.gsfc.nasa.gov/archive/natural/2018/10/02/thumbs/epic_1b_20181002000830.jpg', {'lat': 2.365723, 'lon': 171.789551}]\n",
      "2018-07-12\n",
      "200 https://epic.gsfc.nasa.gov/api/natural/date/2018-07-12\n",
      "There are 22 satellite images available for this date: 2018-07-12\n",
      "This is the first available image for that date\n",
      "['https://epic.gsfc.nasa.gov/archive/natural/2018/07/12/thumbs/epic_1b_20180712004555.jpg', {'lat': 15.842285, 'lon': 171.694336}]\n",
      "2018-04-27\n",
      "200 https://epic.gsfc.nasa.gov/api/natural/date/2018-04-27\n",
      "There are 17 satellite images available for this date: 2018-04-27\n",
      "This is the first available image for that date\n",
      "['https://epic.gsfc.nasa.gov/archive/natural/2018/04/27/thumbs/epic_1b_20180427010437.jpg', {'lat': 21.04248, 'lon': 163.205566}]\n",
      "2018-01-14\n",
      "200 https://epic.gsfc.nasa.gov/api/natural/date/2018-01-14\n",
      "There are 12 satellite images available for this date: 2018-01-14\n",
      "This is the first available image for that date\n",
      "['https://epic.gsfc.nasa.gov/archive/natural/2018/01/14/thumbs/epic_1b_20180114003636.jpg', {'lat': -26.594238, 'lon': 178.161621}]\n",
      "2017-09-06\n",
      "200 https://epic.gsfc.nasa.gov/api/natural/date/2017-09-06\n",
      "There are 0 satellite images available for this date: 2017-09-06\n",
      "2017-06-04\n",
      "200 https://epic.gsfc.nasa.gov/api/natural/date/2017-06-04\n",
      "There are 21 satellite images available for this date: 2017-06-04\n",
      "This is the first available image for that date\n",
      "['https://epic.gsfc.nasa.gov/archive/natural/2017/06/04/thumbs/epic_1b_20170604003634.jpg', {'lat': 25.393066, 'lon': -179.94873}]\n",
      "2017-03-24\n",
      "200 https://epic.gsfc.nasa.gov/api/natural/date/2017-03-24\n",
      "There are 13 satellite images available for this date: 2017-03-24\n",
      "This is the first available image for that date\n",
      "['https://epic.gsfc.nasa.gov/archive/natural/2017/03/24/thumbs/epic_1b_20170324010436.jpg', {'lat': -1.472168, 'lon': 155.654297}]\n",
      "2016-11-27\n",
      "200 https://epic.gsfc.nasa.gov/api/natural/date/2016-11-27\n",
      "There are 13 satellite images available for this date: 2016-11-27\n",
      "This is the first available image for that date\n",
      "['https://epic.gsfc.nasa.gov/archive/natural/2016/11/27/thumbs/epic_1b_20161127003633.jpg', {'lat': -17.468262, 'lon': 173.62793}]\n",
      "2016-09-13\n",
      "200 https://epic.gsfc.nasa.gov/api/natural/date/2016-09-13\n",
      "There are 13 satellite images available for this date: 2016-09-13\n",
      "This is the first available image for that date\n",
      "['https://epic.gsfc.nasa.gov/archive/natural/2016/09/13/thumbs/epic_1b_20160913000830.jpg', {'lat': 4.87793, 'lon': 169.40918}]\n",
      "2016-04-24\n",
      "200 https://epic.gsfc.nasa.gov/api/natural/date/2016-04-24\n",
      "There are 13 satellite images available for this date: 2016-04-24\n",
      "This is the first available image for that date\n",
      "['https://epic.gsfc.nasa.gov/archive/natural/2016/04/24/thumbs/epic_1b_20160424003633.jpg', {'lat': 15.109863, 'lon': 159.924316}]\n",
      "2016-01-12\n",
      "200 https://epic.gsfc.nasa.gov/api/natural/date/2016-01-12\n",
      "There are 11 satellite images available for this date: 2016-01-12\n",
      "This is the first available image for that date\n",
      "['https://epic.gsfc.nasa.gov/archive/natural/2016/01/12/thumbs/epic_1b_20160112002713.jpg', {'lat': -23.818359, 'lon': -172.924805}]\n",
      "2015-09-29\n",
      "200 https://epic.gsfc.nasa.gov/api/natural/date/2015-09-29\n",
      "There are 5 satellite images available for this date: 2015-09-29\n",
      "This is the first available image for that date\n",
      "['https://epic.gsfc.nasa.gov/archive/natural/2015/09/29/thumbs/epic_1b_20150929054506.jpg', {'lat': 0.725098, 'lon': 84.023438}]\n",
      "2015-06-29\n",
      "200 https://epic.gsfc.nasa.gov/api/natural/date/2015-06-29\n",
      "There are 0 satellite images available for this date: 2015-06-29\n",
      "2015-05-07\n",
      "200 https://epic.gsfc.nasa.gov/api/natural/date/2015-05-07\n",
      "There are 0 satellite images available for this date: 2015-05-07\n",
      "2015-01-19\n",
      "200 https://epic.gsfc.nasa.gov/api/natural/date/2015-01-19\n",
      "There are 0 satellite images available for this date: 2015-01-19\n"
     ]
    }
   ],
   "source": [
    "# Access the START dates on each eruptive phase\n",
    "for phase in df['start'][::10]:\n",
    "    print()\n",
    "    print(phase)\n",
    "    phase_data = getSat('nat', 'thumb', *phase.split('-'))\n",
    "    if len(phase_data) > 0:\n",
    "        print('This is the first available image for that date')\n",
    "        print(phase_data[0])"
   ]
  },
  {
   "cell_type": "code",
   "execution_count": null,
   "metadata": {},
   "outputs": [],
   "source": []
  },
  {
   "cell_type": "code",
   "execution_count": null,
   "metadata": {},
   "outputs": [],
   "source": []
  },
  {
   "cell_type": "code",
   "execution_count": null,
   "metadata": {},
   "outputs": [],
   "source": []
  },
  {
   "cell_type": "code",
   "execution_count": null,
   "metadata": {},
   "outputs": [],
   "source": []
  },
  {
   "cell_type": "code",
   "execution_count": null,
   "metadata": {},
   "outputs": [],
   "source": []
  },
  {
   "cell_type": "code",
   "execution_count": null,
   "metadata": {},
   "outputs": [],
   "source": []
  },
  {
   "cell_type": "code",
   "execution_count": 24,
   "metadata": {},
   "outputs": [
    {
     "ename": "ZeroDivisionError",
     "evalue": "division by zero",
     "output_type": "error",
     "traceback": [
      "\u001b[0;31m---------------------------------------------------------------------------\u001b[0m",
      "\u001b[0;31mZeroDivisionError\u001b[0m                         Traceback (most recent call last)",
      "\u001b[0;32m<ipython-input-24-9ab73e148374>\u001b[0m in \u001b[0;36m<module>\u001b[0;34m\u001b[0m\n\u001b[0;32m----> 1\u001b[0;31m \u001b[0;36m0\u001b[0m\u001b[0;34m/\u001b[0m\u001b[0;36m0\u001b[0m\u001b[0;34m\u001b[0m\u001b[0;34m\u001b[0m\u001b[0m\n\u001b[0m",
      "\u001b[0;31mZeroDivisionError\u001b[0m: division by zero"
     ]
    }
   ],
   "source": [
    "0/0"
   ]
  },
  {
   "cell_type": "code",
   "execution_count": 16,
   "metadata": {},
   "outputs": [
    {
     "data": {
      "text/plain": [
       "DatetimeIndex(['2015-01-01', '2015-01-02', '2015-01-03', '2015-01-04',\n",
       "               '2015-01-05', '2015-01-06', '2015-01-07', '2015-01-08',\n",
       "               '2015-01-09', '2015-01-10',\n",
       "               ...\n",
       "               '2020-09-25', '2020-09-26', '2020-09-27', '2020-09-28',\n",
       "               '2020-09-29', '2020-09-30', '2020-10-01', '2020-10-02',\n",
       "               '2020-10-03', '2020-10-04'],\n",
       "              dtype='datetime64[ns]', length=2104, freq='D')"
      ]
     },
     "execution_count": 16,
     "metadata": {},
     "output_type": "execute_result"
    }
   ],
   "source": [
    "date_rng = pd.date_range(start='1/1/2015', end='10/04/2020', freq='D')\n",
    "date_rng"
   ]
  },
  {
   "cell_type": "code",
   "execution_count": 17,
   "metadata": {},
   "outputs": [
    {
     "data": {
      "text/html": [
       "<div>\n",
       "<style scoped>\n",
       "    .dataframe tbody tr th:only-of-type {\n",
       "        vertical-align: middle;\n",
       "    }\n",
       "\n",
       "    .dataframe tbody tr th {\n",
       "        vertical-align: top;\n",
       "    }\n",
       "\n",
       "    .dataframe thead th {\n",
       "        text-align: right;\n",
       "    }\n",
       "</style>\n",
       "<table border=\"1\" class=\"dataframe\">\n",
       "  <thead>\n",
       "    <tr style=\"text-align: right;\">\n",
       "      <th></th>\n",
       "      <th>date</th>\n",
       "      <th>data</th>\n",
       "    </tr>\n",
       "  </thead>\n",
       "  <tbody>\n",
       "    <tr>\n",
       "      <th>0</th>\n",
       "      <td>2015-01-01</td>\n",
       "      <td>91</td>\n",
       "    </tr>\n",
       "    <tr>\n",
       "      <th>1</th>\n",
       "      <td>2015-01-02</td>\n",
       "      <td>61</td>\n",
       "    </tr>\n",
       "    <tr>\n",
       "      <th>2</th>\n",
       "      <td>2015-01-03</td>\n",
       "      <td>32</td>\n",
       "    </tr>\n",
       "    <tr>\n",
       "      <th>3</th>\n",
       "      <td>2015-01-04</td>\n",
       "      <td>90</td>\n",
       "    </tr>\n",
       "    <tr>\n",
       "      <th>4</th>\n",
       "      <td>2015-01-05</td>\n",
       "      <td>25</td>\n",
       "    </tr>\n",
       "  </tbody>\n",
       "</table>\n",
       "</div>"
      ],
      "text/plain": [
       "        date  data\n",
       "0 2015-01-01    91\n",
       "1 2015-01-02    61\n",
       "2 2015-01-03    32\n",
       "3 2015-01-04    90\n",
       "4 2015-01-05    25"
      ]
     },
     "execution_count": 17,
     "metadata": {},
     "output_type": "execute_result"
    }
   ],
   "source": [
    "df = pd.DataFrame(date_rng, columns=['date'])\n",
    "df['data'] = np.random.randint(0,100, size=(len(date_rng)))\n",
    "df.head()"
   ]
  },
  {
   "cell_type": "code",
   "execution_count": 18,
   "metadata": {
    "scrolled": true
   },
   "outputs": [
    {
     "data": {
      "text/html": [
       "<div>\n",
       "<style scoped>\n",
       "    .dataframe tbody tr th:only-of-type {\n",
       "        vertical-align: middle;\n",
       "    }\n",
       "\n",
       "    .dataframe tbody tr th {\n",
       "        vertical-align: top;\n",
       "    }\n",
       "\n",
       "    .dataframe thead th {\n",
       "        text-align: right;\n",
       "    }\n",
       "</style>\n",
       "<table border=\"1\" class=\"dataframe\">\n",
       "  <thead>\n",
       "    <tr style=\"text-align: right;\">\n",
       "      <th></th>\n",
       "      <th>data</th>\n",
       "    </tr>\n",
       "    <tr>\n",
       "      <th>datetime</th>\n",
       "      <th></th>\n",
       "    </tr>\n",
       "  </thead>\n",
       "  <tbody>\n",
       "    <tr>\n",
       "      <th>2015-01-31</th>\n",
       "      <td>48.741935</td>\n",
       "    </tr>\n",
       "    <tr>\n",
       "      <th>2015-02-28</th>\n",
       "      <td>43.464286</td>\n",
       "    </tr>\n",
       "    <tr>\n",
       "      <th>2015-03-31</th>\n",
       "      <td>45.322581</td>\n",
       "    </tr>\n",
       "    <tr>\n",
       "      <th>2015-04-30</th>\n",
       "      <td>47.533333</td>\n",
       "    </tr>\n",
       "    <tr>\n",
       "      <th>2015-05-31</th>\n",
       "      <td>56.000000</td>\n",
       "    </tr>\n",
       "    <tr>\n",
       "      <th>...</th>\n",
       "      <td>...</td>\n",
       "    </tr>\n",
       "    <tr>\n",
       "      <th>2020-06-30</th>\n",
       "      <td>56.300000</td>\n",
       "    </tr>\n",
       "    <tr>\n",
       "      <th>2020-07-31</th>\n",
       "      <td>49.548387</td>\n",
       "    </tr>\n",
       "    <tr>\n",
       "      <th>2020-08-31</th>\n",
       "      <td>54.129032</td>\n",
       "    </tr>\n",
       "    <tr>\n",
       "      <th>2020-09-30</th>\n",
       "      <td>51.733333</td>\n",
       "    </tr>\n",
       "    <tr>\n",
       "      <th>2020-10-31</th>\n",
       "      <td>47.000000</td>\n",
       "    </tr>\n",
       "  </tbody>\n",
       "</table>\n",
       "<p>70 rows × 1 columns</p>\n",
       "</div>"
      ],
      "text/plain": [
       "                 data\n",
       "datetime             \n",
       "2015-01-31  48.741935\n",
       "2015-02-28  43.464286\n",
       "2015-03-31  45.322581\n",
       "2015-04-30  47.533333\n",
       "2015-05-31  56.000000\n",
       "...               ...\n",
       "2020-06-30  56.300000\n",
       "2020-07-31  49.548387\n",
       "2020-08-31  54.129032\n",
       "2020-09-30  51.733333\n",
       "2020-10-31  47.000000\n",
       "\n",
       "[70 rows x 1 columns]"
      ]
     },
     "execution_count": 18,
     "metadata": {},
     "output_type": "execute_result"
    }
   ],
   "source": [
    "df['datetime'] = pd.to_datetime(df.date)\n",
    "df = df.set_index('datetime')\n",
    "\n",
    "#list only the second day of each month\n",
    "#df[df.index.day == 2]\n",
    "\n",
    "# calculate mean of each year\n",
    "df.resample('M').mean()"
   ]
  },
  {
   "cell_type": "code",
   "execution_count": 19,
   "metadata": {},
   "outputs": [
    {
     "data": {
      "text/plain": [
       "3"
      ]
     },
     "execution_count": 19,
     "metadata": {},
     "output_type": "execute_result"
    }
   ],
   "source": [
    "year= 2020\n",
    "month= 2\n",
    "day=6\n",
    "\n",
    "datetime.date(year,month,day).weekday()"
   ]
  },
  {
   "cell_type": "code",
   "execution_count": 20,
   "metadata": {},
   "outputs": [
    {
     "data": {
      "text/plain": [
       "datetime.date(2020, 4, 11)"
      ]
     },
     "execution_count": 20,
     "metadata": {},
     "output_type": "execute_result"
    }
   ],
   "source": [
    "datetime.date.today()"
   ]
  },
  {
   "cell_type": "code",
   "execution_count": null,
   "metadata": {},
   "outputs": [],
   "source": []
  }
 ],
 "metadata": {
  "kernelspec": {
   "display_name": "Python 3.6.9 64-bit",
   "language": "python",
   "name": "python36964bit17c6ebb0882a44ad96e177b7fffe16a0"
  },
  "language_info": {
   "codemirror_mode": {
    "name": "ipython",
    "version": 3
   },
   "file_extension": ".py",
   "mimetype": "text/x-python",
   "name": "python",
   "nbconvert_exporter": "python",
   "pygments_lexer": "ipython3",
   "version": "3.6.9"
  }
 },
 "nbformat": 4,
 "nbformat_minor": 4
}
