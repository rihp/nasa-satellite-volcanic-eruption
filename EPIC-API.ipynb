{
 "cells": [
  {
   "cell_type": "markdown",
   "metadata": {},
   "source": [
    "# Testing the API\n",
    "\n",
    "Satellite data starts being recored on {'date': '2015-06-13'}"
   ]
  },
  {
   "cell_type": "code",
   "execution_count": 1,
   "metadata": {},
   "outputs": [],
   "source": [
    "import requests\n",
    "import os\n",
    "from IPython.display import Image"
   ]
  },
  {
   "cell_type": "code",
   "execution_count": 27,
   "metadata": {},
   "outputs": [],
   "source": [
    "# All Data\n",
    "url = 'https://epic.gsfc.nasa.gov/api/natural/all'\n",
    "\n",
    "# Most Recent\n",
    "url = 'https://epic.gsfc.nasa.gov/api/natural/'\n",
    "\n",
    "# URL by date\n",
    "date = '20180428'\n",
    "url = f'https://epic.gsfc.nasa.gov/api/natural/date/{date}'\n",
    "res = requests.get(url)"
   ]
  },
  {
   "cell_type": "code",
   "execution_count": 29,
   "metadata": {
    "scrolled": true
   },
   "outputs": [
    {
     "name": "stdout",
     "output_type": "stream",
     "text": [
      "There are 22 images available\n"
     ]
    },
    {
     "data": {
      "text/plain": [
       "{'identifier': '20180428005516',\n",
       " 'caption': \"This image was taken by NASA's EPIC camera onboard the NOAA DSCOVR spacecraft\",\n",
       " 'image': 'epic_1b_20180428005516',\n",
       " 'version': '03',\n",
       " 'centroid_coordinates': {'lat': 21.489258, 'lon': 165.871582},\n",
       " 'dscovr_j2000_position': {'x': 1082471.700001,\n",
       "  'y': 765002.975361,\n",
       "  'z': 519622.982812},\n",
       " 'lunar_j2000_position': {'x': -371472.817493,\n",
       "  'y': -85970.908502,\n",
       "  'z': 29631.801617},\n",
       " 'sun_j2000_position': {'x': 119549193.299457,\n",
       "  'y': 84022262.300594,\n",
       "  'z': 36423693.849281},\n",
       " 'attitude_quaternions': {'q0': 0.1799,\n",
       "  'q1': 0.04705,\n",
       "  'q2': -0.936977,\n",
       "  'q3': 0.295793},\n",
       " 'date': '2018-04-28 00:50:27',\n",
       " 'coords': {'centroid_coordinates': {'lat': 21.489258, 'lon': 165.871582},\n",
       "  'dscovr_j2000_position': {'x': 1082471.700001,\n",
       "   'y': 765002.975361,\n",
       "   'z': 519622.982812},\n",
       "  'lunar_j2000_position': {'x': -371472.817493,\n",
       "   'y': -85970.908502,\n",
       "   'z': 29631.801617},\n",
       "  'sun_j2000_position': {'x': 119549193.299457,\n",
       "   'y': 84022262.300594,\n",
       "   'z': 36423693.849281},\n",
       "  'attitude_quaternions': {'q0': 0.1799,\n",
       "   'q1': 0.04705,\n",
       "   'q2': -0.936977,\n",
       "   'q3': 0.295793}}}"
      ]
     },
     "execution_count": 29,
     "metadata": {},
     "output_type": "execute_result"
    }
   ],
   "source": [
    "# Example data retrieved\n",
    "print(f'There are {len(res.json())} images available')\n",
    "res.json()[0]"
   ]
  },
  {
   "cell_type": "code",
   "execution_count": 31,
   "metadata": {},
   "outputs": [
    {
     "data": {
      "text/plain": [
       "[('epic_1b_20180428005516',\n",
       "  {'lat': 21.489258, 'lon': 165.871582},\n",
       "  '2018-04-28 00:50:27'),\n",
       " ('epic_1b_20180428020044',\n",
       "  {'lat': 21.489258, 'lon': 149.458008},\n",
       "  '2018-04-28 01:55:55'),\n",
       " ('epic_1b_20180428030612',\n",
       "  {'lat': 21.533203, 'lon': 133.132324},\n",
       "  '2018-04-28 03:01:23'),\n",
       " ('epic_1b_20180428041139',\n",
       "  {'lat': 21.533203, 'lon': 116.806641},\n",
       "  '2018-04-28 04:06:51'),\n",
       " ('epic_1b_20180428051707',\n",
       "  {'lat': 21.533203, 'lon': 100.458984},\n",
       "  '2018-04-28 05:12:18'),\n",
       " ('epic_1b_20180428062235',\n",
       "  {'lat': 21.599121, 'lon': 84.111328},\n",
       "  '2018-04-28 06:17:46'),\n",
       " ('epic_1b_20180428072802',\n",
       "  {'lat': 21.599121, 'lon': 67.741699},\n",
       "  '2018-04-28 07:23:14'),\n",
       " ('epic_1b_20180428083330',\n",
       "  {'lat': 21.577148, 'lon': 51.37207},\n",
       "  '2018-04-28 08:28:41'),\n",
       " ('epic_1b_20180428093857',\n",
       "  {'lat': 21.599121, 'lon': 35.024414},\n",
       "  '2018-04-28 09:34:09'),\n",
       " ('epic_1b_20180428104425',\n",
       "  {'lat': 21.643066, 'lon': 18.720703},\n",
       "  '2018-04-28 10:39:36'),\n",
       " ('epic_1b_20180428114953',\n",
       "  {'lat': 21.665039, 'lon': 2.373047},\n",
       "  '2018-04-28 11:45:04'),\n",
       " ('epic_1b_20180428125520',\n",
       "  {'lat': 21.708984, 'lon': -13.996582},\n",
       "  '2018-04-28 12:50:32'),\n",
       " ('epic_1b_20180428140048',\n",
       "  {'lat': 21.708984, 'lon': -30.366211},\n",
       "  '2018-04-28 13:55:59'),\n",
       " ('epic_1b_20180428150616',\n",
       "  {'lat': 21.708984, 'lon': -46.713867},\n",
       "  '2018-04-28 15:01:27'),\n",
       " ('epic_1b_20180428161144',\n",
       "  {'lat': 21.730957, 'lon': -63.083496},\n",
       "  '2018-04-28 16:06:56'),\n",
       " ('epic_1b_20180428171712',\n",
       "  {'lat': 21.75293, 'lon': -79.40918},\n",
       "  '2018-04-28 17:12:23'),\n",
       " ('epic_1b_20180428182239',\n",
       "  {'lat': 21.75293, 'lon': -95.734863},\n",
       "  '2018-04-28 18:17:51'),\n",
       " ('epic_1b_20180428192807',\n",
       "  {'lat': 21.774902, 'lon': -112.08252},\n",
       "  '2018-04-28 19:23:18'),\n",
       " ('epic_1b_20180428203335',\n",
       "  {'lat': 21.774902, 'lon': -128.430176},\n",
       "  '2018-04-28 20:28:46'),\n",
       " ('epic_1b_20180428213903',\n",
       "  {'lat': 21.804199, 'lon': -144.836426},\n",
       "  '2018-04-28 21:34:14'),\n",
       " ('epic_1b_20180428224430',\n",
       "  {'lat': 21.862793, 'lon': -161.191406},\n",
       "  '2018-04-28 22:39:41'),\n",
       " ('epic_1b_20180428234957',\n",
       "  {'lat': 21.884766, 'lon': -177.51709},\n",
       "  '2018-04-28 23:45:09')]"
      ]
     },
     "execution_count": 31,
     "metadata": {},
     "output_type": "execute_result"
    }
   ],
   "source": [
    "# Available data time and coords\n",
    "points = []\n",
    "for e in res.json():\n",
    "    points.append((e['image'], e['centroid_coordinates'], e['date']))\n",
    "points"
   ]
  },
  {
   "cell_type": "code",
   "execution_count": 30,
   "metadata": {},
   "outputs": [
    {
     "name": "stdout",
     "output_type": "stream",
     "text": [
      "https://epic.gsfc.nasa.gov/archive/natural/2018/04/28/jpg/epic_1b_20180428005516.jpg\n"
     ]
    },
    {
     "data": {
      "text/html": [
       "<img src=\"https://epic.gsfc.nasa.gov/archive/natural/2018/04/28/jpg/epic_1b_20180428005516.jpg\"/>"
      ],
      "text/plain": [
       "<IPython.core.display.Image object>"
      ]
     },
     "metadata": {},
     "output_type": "display_data"
    }
   ],
   "source": [
    "# Access the image\n",
    "size = {'big':'.png', 'med':'jpg'}\n",
    "collection = {'nat': 'natural', 'enh':'enhanced'}\n",
    "img = f\"https://epic.gsfc.nasa.gov/archive/{collection['nat']}/{date[:4]}/{date[4:6]}/{date[6:8]}/{size['med']}/{res.json()[0]['image']}.{size['med']}\"\n",
    "print(img)\n",
    "display(Image(url=img))"
   ]
  },
  {
   "cell_type": "code",
   "execution_count": 33,
   "metadata": {},
   "outputs": [
    {
     "data": {
      "text/html": [
       "<img src=\"https://epic.gsfc.nasa.gov/archive/natural/2018/04/28/thumbs/epic_1b_20180428005516.jpg\"/>"
      ],
      "text/plain": [
       "<IPython.core.display.Image object>"
      ]
     },
     "metadata": {},
     "output_type": "display_data"
    },
    {
     "data": {
      "text/html": [
       "<img src=\"https://epic.gsfc.nasa.gov/archive/natural/2018/04/28/thumbs/epic_1b_20180428020044.jpg\"/>"
      ],
      "text/plain": [
       "<IPython.core.display.Image object>"
      ]
     },
     "metadata": {},
     "output_type": "display_data"
    },
    {
     "data": {
      "text/html": [
       "<img src=\"https://epic.gsfc.nasa.gov/archive/natural/2018/04/28/thumbs/epic_1b_20180428030612.jpg\"/>"
      ],
      "text/plain": [
       "<IPython.core.display.Image object>"
      ]
     },
     "metadata": {},
     "output_type": "display_data"
    },
    {
     "data": {
      "text/html": [
       "<img src=\"https://epic.gsfc.nasa.gov/archive/natural/2018/04/28/thumbs/epic_1b_20180428041139.jpg\"/>"
      ],
      "text/plain": [
       "<IPython.core.display.Image object>"
      ]
     },
     "metadata": {},
     "output_type": "display_data"
    },
    {
     "data": {
      "text/html": [
       "<img src=\"https://epic.gsfc.nasa.gov/archive/natural/2018/04/28/thumbs/epic_1b_20180428051707.jpg\"/>"
      ],
      "text/plain": [
       "<IPython.core.display.Image object>"
      ]
     },
     "metadata": {},
     "output_type": "display_data"
    },
    {
     "data": {
      "text/html": [
       "<img src=\"https://epic.gsfc.nasa.gov/archive/natural/2018/04/28/thumbs/epic_1b_20180428062235.jpg\"/>"
      ],
      "text/plain": [
       "<IPython.core.display.Image object>"
      ]
     },
     "metadata": {},
     "output_type": "display_data"
    },
    {
     "data": {
      "text/html": [
       "<img src=\"https://epic.gsfc.nasa.gov/archive/natural/2018/04/28/thumbs/epic_1b_20180428072802.jpg\"/>"
      ],
      "text/plain": [
       "<IPython.core.display.Image object>"
      ]
     },
     "metadata": {},
     "output_type": "display_data"
    },
    {
     "data": {
      "text/html": [
       "<img src=\"https://epic.gsfc.nasa.gov/archive/natural/2018/04/28/thumbs/epic_1b_20180428083330.jpg\"/>"
      ],
      "text/plain": [
       "<IPython.core.display.Image object>"
      ]
     },
     "metadata": {},
     "output_type": "display_data"
    },
    {
     "data": {
      "text/html": [
       "<img src=\"https://epic.gsfc.nasa.gov/archive/natural/2018/04/28/thumbs/epic_1b_20180428093857.jpg\"/>"
      ],
      "text/plain": [
       "<IPython.core.display.Image object>"
      ]
     },
     "metadata": {},
     "output_type": "display_data"
    },
    {
     "data": {
      "text/html": [
       "<img src=\"https://epic.gsfc.nasa.gov/archive/natural/2018/04/28/thumbs/epic_1b_20180428104425.jpg\"/>"
      ],
      "text/plain": [
       "<IPython.core.display.Image object>"
      ]
     },
     "metadata": {},
     "output_type": "display_data"
    },
    {
     "data": {
      "text/html": [
       "<img src=\"https://epic.gsfc.nasa.gov/archive/natural/2018/04/28/thumbs/epic_1b_20180428114953.jpg\"/>"
      ],
      "text/plain": [
       "<IPython.core.display.Image object>"
      ]
     },
     "metadata": {},
     "output_type": "display_data"
    },
    {
     "data": {
      "text/html": [
       "<img src=\"https://epic.gsfc.nasa.gov/archive/natural/2018/04/28/thumbs/epic_1b_20180428125520.jpg\"/>"
      ],
      "text/plain": [
       "<IPython.core.display.Image object>"
      ]
     },
     "metadata": {},
     "output_type": "display_data"
    },
    {
     "data": {
      "text/html": [
       "<img src=\"https://epic.gsfc.nasa.gov/archive/natural/2018/04/28/thumbs/epic_1b_20180428140048.jpg\"/>"
      ],
      "text/plain": [
       "<IPython.core.display.Image object>"
      ]
     },
     "metadata": {},
     "output_type": "display_data"
    },
    {
     "data": {
      "text/html": [
       "<img src=\"https://epic.gsfc.nasa.gov/archive/natural/2018/04/28/thumbs/epic_1b_20180428150616.jpg\"/>"
      ],
      "text/plain": [
       "<IPython.core.display.Image object>"
      ]
     },
     "metadata": {},
     "output_type": "display_data"
    },
    {
     "data": {
      "text/html": [
       "<img src=\"https://epic.gsfc.nasa.gov/archive/natural/2018/04/28/thumbs/epic_1b_20180428161144.jpg\"/>"
      ],
      "text/plain": [
       "<IPython.core.display.Image object>"
      ]
     },
     "metadata": {},
     "output_type": "display_data"
    },
    {
     "data": {
      "text/html": [
       "<img src=\"https://epic.gsfc.nasa.gov/archive/natural/2018/04/28/thumbs/epic_1b_20180428171712.jpg\"/>"
      ],
      "text/plain": [
       "<IPython.core.display.Image object>"
      ]
     },
     "metadata": {},
     "output_type": "display_data"
    },
    {
     "data": {
      "text/html": [
       "<img src=\"https://epic.gsfc.nasa.gov/archive/natural/2018/04/28/thumbs/epic_1b_20180428182239.jpg\"/>"
      ],
      "text/plain": [
       "<IPython.core.display.Image object>"
      ]
     },
     "metadata": {},
     "output_type": "display_data"
    },
    {
     "data": {
      "text/html": [
       "<img src=\"https://epic.gsfc.nasa.gov/archive/natural/2018/04/28/thumbs/epic_1b_20180428192807.jpg\"/>"
      ],
      "text/plain": [
       "<IPython.core.display.Image object>"
      ]
     },
     "metadata": {},
     "output_type": "display_data"
    },
    {
     "data": {
      "text/html": [
       "<img src=\"https://epic.gsfc.nasa.gov/archive/natural/2018/04/28/thumbs/epic_1b_20180428203335.jpg\"/>"
      ],
      "text/plain": [
       "<IPython.core.display.Image object>"
      ]
     },
     "metadata": {},
     "output_type": "display_data"
    },
    {
     "data": {
      "text/html": [
       "<img src=\"https://epic.gsfc.nasa.gov/archive/natural/2018/04/28/thumbs/epic_1b_20180428213903.jpg\"/>"
      ],
      "text/plain": [
       "<IPython.core.display.Image object>"
      ]
     },
     "metadata": {},
     "output_type": "display_data"
    },
    {
     "data": {
      "text/html": [
       "<img src=\"https://epic.gsfc.nasa.gov/archive/natural/2018/04/28/thumbs/epic_1b_20180428224430.jpg\"/>"
      ],
      "text/plain": [
       "<IPython.core.display.Image object>"
      ]
     },
     "metadata": {},
     "output_type": "display_data"
    },
    {
     "data": {
      "text/html": [
       "<img src=\"https://epic.gsfc.nasa.gov/archive/natural/2018/04/28/thumbs/epic_1b_20180428234957.jpg\"/>"
      ],
      "text/plain": [
       "<IPython.core.display.Image object>"
      ]
     },
     "metadata": {},
     "output_type": "display_data"
    }
   ],
   "source": [
    "# Access the image\n",
    "size = {'big':'.png', 'med':'jpg'}\n",
    "collection = {'nat': 'natural', 'enh':'enhanced'}\n",
    "for e in res.json():\n",
    "    img = f\"https://epic.gsfc.nasa.gov/archive/{collection['nat']}/{date[:4]}/{date[4:6]}/{date[6:8]}/thumbs/{e['image']}.{size['med']}\"\n",
    "    #print(img)\n",
    "    display(Image(url=img))"
   ]
  },
  {
   "cell_type": "code",
   "execution_count": 6,
   "metadata": {},
   "outputs": [
    {
     "name": "stdout",
     "output_type": "stream",
     "text": [
      "20170604003634\n",
      "2017 06 04\n"
     ]
    }
   ],
   "source": [
    "# Example data retrieved\n",
    "print(res.json()[0]['identifier'])\n",
    "YYYYMMDD = res.json()[0]['identifier']\n",
    "year = YYYYMMDD[:4]\n",
    "month = YYYYMMDD[4:6]\n",
    "day = YYYYMMDD[6:8]\n",
    "print(year, month, day)"
   ]
  },
  {
   "cell_type": "code",
   "execution_count": null,
   "metadata": {},
   "outputs": [],
   "source": []
  },
  {
   "cell_type": "code",
   "execution_count": null,
   "metadata": {},
   "outputs": [],
   "source": []
  },
  {
   "cell_type": "code",
   "execution_count": 7,
   "metadata": {},
   "outputs": [
    {
     "ename": "IndentationError",
     "evalue": "expected an indented block (<ipython-input-7-0b180c61e94e>, line 4)",
     "output_type": "error",
     "traceback": [
      "\u001b[0;36m  File \u001b[0;32m\"<ipython-input-7-0b180c61e94e>\"\u001b[0;36m, line \u001b[0;32m4\u001b[0m\n\u001b[0;31m    year = YYYYMMDD[:4]\u001b[0m\n\u001b[0m       ^\u001b[0m\n\u001b[0;31mIndentationError\u001b[0m\u001b[0;31m:\u001b[0m expected an indented block\n"
     ]
    }
   ],
   "source": [
    "# Define when\n",
    "def getSatelite(YYYYMMDD,queryParams=dict(),apiKey=\"\"):\n",
    "    \n",
    "year = YYYYMMDD[:4]\n",
    "month = YYYYMMDD[4:6]\n",
    "day = YYYYMMDD[6:8]\n",
    "    \n",
    "    \n",
    "    # Construct the resource url\n",
    "    url = f'https://epic.gsfc.nasa.gov/api/natural'\n",
    "    # metadata = f\"https://epic.gsfc.nasa.gov/api/natural/date/{year}-{month}-{day}\"\n",
    "    \n",
    "    # If apiKey is defined, pass a header\n",
    "    headers = {\"Authorization\":f\"token {apiKey}\"} if apiKey else {}\n",
    "\n",
    "    # Perform the request\n",
    "    res = requests.get(url, params=queryParams, headers=headers)\n",
    "    print(res.status_code, res.url)\n",
    "    \n",
    "    # Extract json from body response\n",
    "    return res.json()\n",
    "\n",
    "\n",
    "#specify requests url\n",
    "metadata = f\"https://epic.gsfc.nasa.gov/api/natural/date/{year}-{month}-{day}\""
   ]
  },
  {
   "cell_type": "markdown",
   "metadata": {},
   "source": [
    "# Changing the PHP api to Python code"
   ]
  },
  {
   "cell_type": "code",
   "execution_count": null,
   "metadata": {},
   "outputs": [],
   "source": [
    "# Define when\n",
    "month = '08'\n",
    "day = '21'\n",
    "year = '2017'\n",
    "\n",
    "#specify requests url\n",
    "metadata = f\"https://epic.gsfc.nasa.gov/api/natural/date/{year}-{month}-{day}\"\n",
    "\n",
    "meta = file_get_contents($metadata);   # get the metadata for that date and collection\n",
    "arr = json_decode($meta);  # decode the metadata\n",
    "\n",
    "foreach($arr as $item) {\n",
    "    $name = $item->image . '.png';\n",
    "    $archive = \"https://epic.gsfc.nasa.gov/archive/natural/{$year}/{$month}/{$day}/png/\";\n",
    "\n",
    "    $source = $archive . $name;\n",
    "    $destination = '/path/to/downloads/' . $name;\n",
    "\n",
    "    copy($source, $destination);    // download and copy the image\n",
    "    }"
   ]
  },
  {
   "cell_type": "code",
   "execution_count": null,
   "metadata": {},
   "outputs": [],
   "source": [
    "def getSatelite(date, queryParams=dict(),apiKey=\"\"):\n",
    "    \n",
    "    # Construct the resource url\n",
    "    url = f'https://epic.gsfc.nasa.gov/api/natural/{date}'\n",
    "    \n",
    "    # If apiKey is defined, pass a header\n",
    "    headers = {\"Authorization\":f\"token {apiKey}\"} if apiKey else {}\n",
    "\n",
    "    # Perform the request\n",
    "    res = requests.get(url, params=queryParams, headers=headers)\n",
    "    print(res.status_code, res.url)\n",
    "    \n",
    "    # Extract json from body response\n",
    "    return res.json()"
   ]
  },
  {
   "cell_type": "code",
   "execution_count": null,
   "metadata": {},
   "outputs": [],
   "source": []
  },
  {
   "cell_type": "code",
   "execution_count": null,
   "metadata": {},
   "outputs": [],
   "source": []
  },
  {
   "cell_type": "markdown",
   "metadata": {},
   "source": [
    "# Working with datetime"
   ]
  },
  {
   "cell_type": "code",
   "execution_count": null,
   "metadata": {},
   "outputs": [],
   "source": [
    "import pandas as pd\n",
    "import numpy as np\n",
    "import datetime"
   ]
  },
  {
   "cell_type": "code",
   "execution_count": null,
   "metadata": {},
   "outputs": [],
   "source": [
    "df = pd.DataFrame('INPUT/volcanic-explosions.csv')"
   ]
  },
  {
   "cell_type": "code",
   "execution_count": null,
   "metadata": {},
   "outputs": [],
   "source": [
    "date_rng = pd.date_range(start='1/1/2015', end='10/04/2020', freq='D')\n",
    "date_rng"
   ]
  },
  {
   "cell_type": "code",
   "execution_count": null,
   "metadata": {},
   "outputs": [],
   "source": [
    "df = pd.DataFrame(date_rng, columns=['date'])\n",
    "df['data'] = np.random.randint(0,100, size=(len(date_rng)))\n",
    "df.head()"
   ]
  },
  {
   "cell_type": "code",
   "execution_count": null,
   "metadata": {
    "scrolled": true
   },
   "outputs": [],
   "source": [
    "df['datetime'] = pd.to_datetime(df.date)\n",
    "df = df.set_index('datetime')\n",
    "\n",
    "#list only the second day of each month\n",
    "#df[df.index.day == 2]\n",
    "\n",
    "# calculate mean of each year\n",
    "df.resample('M').mean()"
   ]
  },
  {
   "cell_type": "code",
   "execution_count": null,
   "metadata": {},
   "outputs": [],
   "source": [
    "year= 2020\n",
    "month= 2\n",
    "day=6\n",
    "\n",
    "datetime.date(year,month,day).weekday()"
   ]
  },
  {
   "cell_type": "code",
   "execution_count": null,
   "metadata": {},
   "outputs": [],
   "source": [
    "datetime.date.today()"
   ]
  },
  {
   "cell_type": "code",
   "execution_count": null,
   "metadata": {},
   "outputs": [],
   "source": []
  }
 ],
 "metadata": {
  "kernelspec": {
   "display_name": "Python 3.6.9 64-bit",
   "language": "python",
   "name": "python36964bit17c6ebb0882a44ad96e177b7fffe16a0"
  },
  "language_info": {
   "codemirror_mode": {
    "name": "ipython",
    "version": 3
   },
   "file_extension": ".py",
   "mimetype": "text/x-python",
   "name": "python",
   "nbconvert_exporter": "python",
   "pygments_lexer": "ipython3",
   "version": "3.6.9"
  }
 },
 "nbformat": 4,
 "nbformat_minor": 4
}
