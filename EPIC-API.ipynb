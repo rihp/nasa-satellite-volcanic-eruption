{
 "cells": [
  {
   "cell_type": "markdown",
   "metadata": {},
   "source": [
    "# Testing the API\n",
    "\n",
    "Satellite data starts being recored on {'date': '2015-06-13'}"
   ]
  },
  {
   "cell_type": "code",
   "execution_count": 2,
   "metadata": {},
   "outputs": [],
   "source": [
    "import requests\n",
    "import os\n",
    "from IPython.display import Image"
   ]
  },
  {
   "cell_type": "code",
   "execution_count": 3,
   "metadata": {},
   "outputs": [],
   "source": [
    "# All Data\n",
    "url = 'https://epic.gsfc.nasa.gov/api/natural/all'\n",
    "\n",
    "# Most Recent\n",
    "url = 'https://epic.gsfc.nasa.gov/api/natural/'\n",
    "\n",
    "# URL by date\n",
    "date = '20180428'\n",
    "url = f'https://epic.gsfc.nasa.gov/api/enhanced/date/{date}'\n",
    "res = requests.get(url)"
   ]
  },
  {
   "cell_type": "code",
   "execution_count": 4,
   "metadata": {
    "scrolled": true
   },
   "outputs": [
    {
     "name": "stdout",
     "output_type": "stream",
     "text": [
      "There are 22 images available\n"
     ]
    },
    {
     "data": {
      "text/plain": [
       "{'identifier': '20180428005516',\n",
       " 'caption': \"This image was taken by NASA's EPIC camera onboard the NOAA DSCOVR spacecraft\",\n",
       " 'image': 'epic_RGB_20180428005516',\n",
       " 'version': '02',\n",
       " 'centroid_coordinates': {'lat': 21.489258, 'lon': 165.871582},\n",
       " 'dscovr_j2000_position': {'x': 1082471.700001,\n",
       "  'y': 765002.975361,\n",
       "  'z': 519622.982812},\n",
       " 'lunar_j2000_position': {'x': -371472.817493,\n",
       "  'y': -85970.908502,\n",
       "  'z': 29631.801617},\n",
       " 'sun_j2000_position': {'x': 119549193.299457,\n",
       "  'y': 84022262.300594,\n",
       "  'z': 36423693.849281},\n",
       " 'attitude_quaternions': {'q0': 0.1799,\n",
       "  'q1': 0.04705,\n",
       "  'q2': -0.936977,\n",
       "  'q3': 0.295793},\n",
       " 'date': '2018-04-28 00:50:27',\n",
       " 'coords': {'centroid_coordinates': {'lat': 21.489258, 'lon': 165.871582},\n",
       "  'dscovr_j2000_position': {'x': 1082471.700001,\n",
       "   'y': 765002.975361,\n",
       "   'z': 519622.982812},\n",
       "  'lunar_j2000_position': {'x': -371472.817493,\n",
       "   'y': -85970.908502,\n",
       "   'z': 29631.801617},\n",
       "  'sun_j2000_position': {'x': 119549193.299457,\n",
       "   'y': 84022262.300594,\n",
       "   'z': 36423693.849281},\n",
       "  'attitude_quaternions': {'q0': 0.1799,\n",
       "   'q1': 0.04705,\n",
       "   'q2': -0.936977,\n",
       "   'q3': 0.295793}}}"
      ]
     },
     "execution_count": 4,
     "metadata": {},
     "output_type": "execute_result"
    }
   ],
   "source": [
    "# Example data retrieved\n",
    "print(f'There are {len(res.json())} images available')\n",
    "res.json()[0]"
   ]
  },
  {
   "cell_type": "code",
   "execution_count": 14,
   "metadata": {},
   "outputs": [
    {
     "data": {
      "text/plain": [
       "[('epic_RGB_20180428005516',\n",
       "  {'lat': 21.489258, 'lon': 165.871582},\n",
       "  '2018-04-28 00:50:27'),\n",
       " ('epic_RGB_20180428020044',\n",
       "  {'lat': 21.489258, 'lon': 149.458008},\n",
       "  '2018-04-28 01:55:55'),\n",
       " ('epic_RGB_20180428030612',\n",
       "  {'lat': 21.533203, 'lon': 133.132324},\n",
       "  '2018-04-28 03:01:23')]"
      ]
     },
     "execution_count": 14,
     "metadata": {},
     "output_type": "execute_result"
    }
   ],
   "source": [
    "# Available data time and coords\n",
    "fetch = 3\n",
    "points = []\n",
    "for e in res.json()[:fetch]:\n",
    "    points.append((e['image'], e['centroid_coordinates'], e['date']))\n",
    "points"
   ]
  },
  {
   "cell_type": "code",
   "execution_count": 10,
   "metadata": {},
   "outputs": [
    {
     "name": "stdout",
     "output_type": "stream",
     "text": [
      "https://epic.gsfc.nasa.gov/archive/enhanced/2018/04/28/jpg/epic_RGB_20180428005516.jpg\n"
     ]
    },
    {
     "data": {
      "text/html": [
       "<img src=\"https://epic.gsfc.nasa.gov/archive/enhanced/2018/04/28/jpg/epic_RGB_20180428005516.jpg\"/>"
      ],
      "text/plain": [
       "<IPython.core.display.Image object>"
      ]
     },
     "metadata": {},
     "output_type": "display_data"
    }
   ],
   "source": [
    "# Access the image\n",
    "size = {'big':'.png', 'med':'jpg'}\n",
    "collection = {'nat': 'natural', 'enh':'enhanced'}\n",
    "img = f\"https://epic.gsfc.nasa.gov/archive/{collection['enh']}/{date[:4]}/{date[4:6]}/{date[6:8]}/{size['med']}/{res.json()[0]['image']}.{size['med']}\"\n",
    "print(img)\n",
    "display(Image(url=img))"
   ]
  },
  {
   "cell_type": "code",
   "execution_count": 15,
   "metadata": {},
   "outputs": [],
   "source": [
    "# Access the image\n",
    "size = {'big':'.png', 'med':'jpg'}\n",
    "collection = {'nat': 'natural', 'enh':'enhanced'}\n",
    "for e in res.json():\n",
    "    img = f\"https://epic.gsfc.nasa.gov/archive/{collection['enh']}/{date[:4]}/{date[4:6]}/{date[6:8]}/png/{e['image']}.{size['big']}\"\n",
    "    #display(Image(url=img))"
   ]
  },
  {
   "cell_type": "code",
   "execution_count": 6,
   "metadata": {},
   "outputs": [
    {
     "name": "stdout",
     "output_type": "stream",
     "text": [
      "20170604003634\n",
      "2017 06 04\n"
     ]
    }
   ],
   "source": [
    "# Example data retrieved\n",
    "print(res.json()[0]['identifier'])\n",
    "YYYYMMDD = res.json()[0]['identifier']\n",
    "year = YYYYMMDD[:4]\n",
    "month = YYYYMMDD[4:6]\n",
    "day = YYYYMMDD[6:8]\n",
    "print(year, month, day)"
   ]
  },
  {
   "cell_type": "code",
   "execution_count": null,
   "metadata": {},
   "outputs": [],
   "source": []
  },
  {
   "cell_type": "code",
   "execution_count": null,
   "metadata": {},
   "outputs": [],
   "source": []
  },
  {
   "cell_type": "markdown",
   "metadata": {},
   "source": [
    "# Basic getSatellite() by date"
   ]
  },
  {
   "cell_type": "code",
   "execution_count": 37,
   "metadata": {},
   "outputs": [
    {
     "name": "stdout",
     "output_type": "stream",
     "text": [
      "['2020', '01', '01']\n",
      "200 https://epic.gsfc.nasa.gov/api/natural/date/2020-04-09\n"
     ]
    },
    {
     "data": {
      "text/plain": [
       "{'identifier': '20200409015633',\n",
       " 'caption': \"This image was taken by NASA's EPIC camera onboard the NOAA DSCOVR spacecraft\",\n",
       " 'image': 'epic_1b_20200409015633',\n",
       " 'version': '03',\n",
       " 'centroid_coordinates': {'lat': 15.681152, 'lon': 154.855957},\n",
       " 'dscovr_j2000_position': {'x': 1282586.914967,\n",
       "  'y': 502099.889162,\n",
       "  'z': 384697.157718},\n",
       " 'lunar_j2000_position': {'x': -298942.99607,\n",
       "  'y': -190756.754707,\n",
       "  'z': -53507.18531},\n",
       " 'sun_j2000_position': {'x': 141318831.239417,\n",
       "  'y': 45679712.000053,\n",
       "  'z': 19802011.859607},\n",
       " 'attitude_quaternions': {'q0': 0.167841,\n",
       "  'q1': -0.172484,\n",
       "  'q2': -0.95847,\n",
       "  'q3': 0.153019},\n",
       " 'date': '2020-04-09 01:51:45',\n",
       " 'coords': {'centroid_coordinates': {'lat': 15.681152, 'lon': 154.855957},\n",
       "  'dscovr_j2000_position': {'x': 1282586.914967,\n",
       "   'y': 502099.889162,\n",
       "   'z': 384697.157718},\n",
       "  'lunar_j2000_position': {'x': -298942.99607,\n",
       "   'y': -190756.754707,\n",
       "   'z': -53507.18531},\n",
       "  'sun_j2000_position': {'x': 141318831.239417,\n",
       "   'y': 45679712.000053,\n",
       "   'z': 19802011.859607},\n",
       "  'attitude_quaternions': {'q0': 0.167841,\n",
       "   'q1': -0.172484,\n",
       "   'q2': -0.95847,\n",
       "   'q3': 0.153019}}}"
      ]
     },
     "execution_count": 37,
     "metadata": {},
     "output_type": "execute_result"
    }
   ],
   "source": [
    "# Define when\n",
    "url = f'https://epic.gsfc.nasa.gov/api/'\n",
    "date = '2020-01-01'.split('-')\n",
    "print(date)\n",
    "collection = 'natural'\n",
    "\n",
    "def getSatellite(img_type, YYYY, MM, DD, queryParams=dict(), apiKey=\"\"):\n",
    "    \n",
    "    # Define types of collections\n",
    "    collection = {'nat': 'natural', 'enh':'enhanced'}\n",
    "    \n",
    "    # Request API metadata using query parameters\n",
    "    host = f'https://epic.gsfc.nasa.gov'\n",
    "    metadata = f\"{host}/api/{collection[img_type]}/date/{YYYY}-{MM}-{DD}\"\n",
    "    res = requests.get(metadata, params=queryParams)\n",
    "    print(res.status_code, res.url)\n",
    "\n",
    "    # Construct the resource url\n",
    "    img = f\"{url}/archive/{collection[img_type]}/{YYYY}/{MM}/{DD}/png/{e['image']}.{size['big']}\"\n",
    "\n",
    "    # Return json from requests' response body\n",
    "    return res.json()\n",
    "\n",
    "getSatellite('nat', '2020', '04', '09')[1]"
   ]
  },
  {
   "cell_type": "markdown",
   "metadata": {},
   "source": [
    "# Changing the PHP api to Python code"
   ]
  },
  {
   "cell_type": "code",
   "execution_count": null,
   "metadata": {},
   "outputs": [],
   "source": [
    "# Define when\n",
    "month = '08'\n",
    "day = '21'\n",
    "year = '2017'\n",
    "\n",
    "#specify requests url\n",
    "metadata = f\"https://epic.gsfc.nasa.gov/api/natural/date/{year}-{month}-{day}\"\n",
    "\n",
    "meta = file_get_contents($metadata);   # get the metadata for that date and collection\n",
    "arr = json_decode($meta);  # decode the metadata\n",
    "\n",
    "foreach($arr as $item) {\n",
    "    $name = $item->image . '.png';\n",
    "    $archive = \"https://epic.gsfc.nasa.gov/archive/natural/{$year}/{$month}/{$day}/png/\";\n",
    "\n",
    "    $source = $archive . $name;\n",
    "    $destination = '/path/to/downloads/' . $name;\n",
    "\n",
    "    copy($source, $destination);    // download and copy the image\n",
    "    }"
   ]
  },
  {
   "cell_type": "code",
   "execution_count": null,
   "metadata": {},
   "outputs": [],
   "source": [
    "def getSatelite(date, queryParams=dict(),apiKey=\"\"):\n",
    "    \n",
    "    # Construct the resource url\n",
    "    url = f'https://epic.gsfc.nasa.gov/api/natural/{date}'\n",
    "    \n",
    "    # If apiKey is defined, pass a header\n",
    "    headers = {\"Authorization\":f\"token {apiKey}\"} if apiKey else {}\n",
    "\n",
    "    # Perform the request\n",
    "    res = requests.get(url, params=queryParams, headers=headers)\n",
    "    print(res.status_code, res.url)\n",
    "    \n",
    "    # Extract json from body response\n",
    "    return res.json()"
   ]
  },
  {
   "cell_type": "code",
   "execution_count": null,
   "metadata": {},
   "outputs": [],
   "source": []
  },
  {
   "cell_type": "code",
   "execution_count": null,
   "metadata": {},
   "outputs": [],
   "source": []
  },
  {
   "cell_type": "markdown",
   "metadata": {},
   "source": [
    "# Working with datetime"
   ]
  },
  {
   "cell_type": "code",
   "execution_count": null,
   "metadata": {},
   "outputs": [],
   "source": [
    "import pandas as pd\n",
    "import numpy as np\n",
    "import datetime"
   ]
  },
  {
   "cell_type": "code",
   "execution_count": null,
   "metadata": {},
   "outputs": [],
   "source": [
    "df = pd.DataFrame('INPUT/volcanic-explosions.csv')"
   ]
  },
  {
   "cell_type": "code",
   "execution_count": null,
   "metadata": {},
   "outputs": [],
   "source": [
    "date_rng = pd.date_range(start='1/1/2015', end='10/04/2020', freq='D')\n",
    "date_rng"
   ]
  },
  {
   "cell_type": "code",
   "execution_count": null,
   "metadata": {},
   "outputs": [],
   "source": [
    "df = pd.DataFrame(date_rng, columns=['date'])\n",
    "df['data'] = np.random.randint(0,100, size=(len(date_rng)))\n",
    "df.head()"
   ]
  },
  {
   "cell_type": "code",
   "execution_count": null,
   "metadata": {
    "scrolled": true
   },
   "outputs": [],
   "source": [
    "df['datetime'] = pd.to_datetime(df.date)\n",
    "df = df.set_index('datetime')\n",
    "\n",
    "#list only the second day of each month\n",
    "#df[df.index.day == 2]\n",
    "\n",
    "# calculate mean of each year\n",
    "df.resample('M').mean()"
   ]
  },
  {
   "cell_type": "code",
   "execution_count": null,
   "metadata": {},
   "outputs": [],
   "source": [
    "year= 2020\n",
    "month= 2\n",
    "day=6\n",
    "\n",
    "datetime.date(year,month,day).weekday()"
   ]
  },
  {
   "cell_type": "code",
   "execution_count": null,
   "metadata": {},
   "outputs": [],
   "source": [
    "datetime.date.today()"
   ]
  },
  {
   "cell_type": "code",
   "execution_count": null,
   "metadata": {},
   "outputs": [],
   "source": []
  }
 ],
 "metadata": {
  "kernelspec": {
   "display_name": "Python 3.6.9 64-bit",
   "language": "python",
   "name": "python36964bit17c6ebb0882a44ad96e177b7fffe16a0"
  },
  "language_info": {
   "codemirror_mode": {
    "name": "ipython",
    "version": 3
   },
   "file_extension": ".py",
   "mimetype": "text/x-python",
   "name": "python",
   "nbconvert_exporter": "python",
   "pygments_lexer": "ipython3",
   "version": "3.6.9"
  }
 },
 "nbformat": 4,
 "nbformat_minor": 4
}
